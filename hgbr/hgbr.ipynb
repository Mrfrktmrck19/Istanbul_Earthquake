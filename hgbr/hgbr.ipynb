{
 "cells": [
  {
   "cell_type": "markdown",
   "id": "b6079364-20d4-435c-98b9-a10475128389",
   "metadata": {},
   "source": [
    "# Earthquake Forecasting with RF"
   ]
  },
  {
   "cell_type": "markdown",
   "id": "756330b1-3b5b-4ec1-9995-861ab494db52",
   "metadata": {
    "jp-MarkdownHeadingCollapsed": true,
    "tags": []
   },
   "source": [
    "## Setup Enviroment "
   ]
  },
  {
   "cell_type": "code",
   "execution_count": 1,
   "id": "8bf1e9b6-cf68-4c14-b73f-0fa0c2e3070c",
   "metadata": {
    "tags": []
   },
   "outputs": [],
   "source": [
    "import numpy as np\n",
    "import pandas as pd\n",
    "import matplotlib.pyplot as plt\n",
    "import seaborn as sns\n",
    "import warnings\n",
    "from lightgbm import LGBMRegressor\n",
    "import lightgbm as lgb\n",
    "from sklearn.ensemble import RandomForestRegressor, GradientBoostingRegressor\n",
    "from sklearn.exceptions import ConvergenceWarning\n",
    "from sklearn.linear_model import LinearRegression, Ridge, Lasso, ElasticNet\n",
    "from sklearn.neighbors import KNeighborsRegressor\n",
    "from sklearn.svm import SVR\n",
    "from sklearn.tree import DecisionTreeRegressor\n",
    "from sklearn.preprocessing import LabelEncoder\n",
    "from sklearn.metrics import mean_squared_error\n",
    "from sklearn.linear_model import LinearRegression\n",
    "from sklearn.model_selection import train_test_split, cross_val_score,GridSearchCV\n",
    "import re\n",
    "import optuna"
   ]
  },
  {
   "cell_type": "code",
   "execution_count": 65,
   "id": "3c9b5a31-49d8-4f99-abe7-c1149e8bb510",
   "metadata": {
    "tags": []
   },
   "outputs": [],
   "source": [
    "from sklearn.ensemble import HistGradientBoostingRegressor\n",
    "import joblib"
   ]
  },
  {
   "cell_type": "code",
   "execution_count": 2,
   "id": "d72b4db7-f14d-4209-9356-9916e51e5525",
   "metadata": {
    "tags": []
   },
   "outputs": [],
   "source": [
    "pd.set_option(\"display.max_rows\",1000)"
   ]
  },
  {
   "cell_type": "code",
   "execution_count": 12,
   "id": "ef909db9-a4ac-40f8-a9d7-bc439ffec77c",
   "metadata": {
    "tags": []
   },
   "outputs": [],
   "source": [
    "df2_ = pd.read_excel(\"kaggle_test2.xlsx\",index_col=\"Unnamed: 0\")\n",
    "df_ = pd.read_csv(\"dataset.csv\", encoding=\"unicode-escape\", sep=\",\",on_bad_lines=\"skip\",index_col=\"Unnamed: 0\")"
   ]
  },
  {
   "cell_type": "code",
   "execution_count": 13,
   "id": "1521733a-5cdf-4dd6-924a-928f19691974",
   "metadata": {
    "tags": []
   },
   "outputs": [],
   "source": [
    "df = df_.copy()"
   ]
  },
  {
   "cell_type": "markdown",
   "id": "a4ad3394-ff86-42df-a04d-f776f6fc9be4",
   "metadata": {
    "jp-MarkdownHeadingCollapsed": true,
    "tags": []
   },
   "source": [
    "## EDA on Main Dataset"
   ]
  },
  {
   "cell_type": "code",
   "execution_count": 14,
   "id": "6e0238dd-33d7-4cf6-bd5a-07c3849fb5ed",
   "metadata": {
    "tags": []
   },
   "outputs": [],
   "source": [
    "# Değişken isimlerini küçültüyorum\n",
    "df.columns = [col.lower() for col in df.columns]\n",
    "\n",
    "# Bağımlı değişkenin türevlerini overfit olmaması için çıkartıyorum.\n",
    "df.drop([\"md\",\"ml\",\"mw\",\"ms\",\"mb\"],axis=1,inplace=True)\n",
    "\n",
    "# Date değişkeninin oluşturulması\n",
    "df[\"olus tarihi\"] = df[\"olus tarihi\"].astype(str)\n",
    "df[\"olus zamani\"] = df[\"olus zamani\"].astype(str)\n",
    "# tip değişkeni 2 sınıf ve SM sınıfından sadece 2 gözlem var. O yüzden dropluyorum bu kolonu.\n",
    "df[\"depremin_olus_zamani\"] = df[\"olus tarihi\"] + \" \" + df[\"olus zamani\"]\n",
    "df.drop([\"olus tarihi\", \"olus zamani\", \"tip\"], axis = 1, inplace = True)\n",
    "df[\"depremin_olus_zamani\"] = pd.to_datetime(df[\"depremin_olus_zamani\"])\n",
    "\n",
    "# Çoğullanmış ID'leri düşürüyorum.\n",
    "df.drop_duplicates(subset=[\"deprem kodu\"],inplace = True)\n",
    "\n",
    "# Türkçe karakterleri İngilizce karakterlere dönüştüren bir çeviri sözlüğü oluşturalım\n",
    "turkce_ingilizce_ceviri = {\n",
    "    'ç': 'c',\n",
    "    'ğ': 'g',\n",
    "    'ı': 'i',\n",
    "    'ö': 'o',\n",
    "    'ş': 's',\n",
    "    'ü': 'u',\n",
    "    'Ç': 'C',\n",
    "    'Ğ': 'G',\n",
    "    'İ': 'I',\n",
    "    'Ö': 'O',\n",
    "    'Ş': 'S',\n",
    "    'Ü': 'U'\n",
    "}\n",
    "df[\"yer\"] = df[\"yer\"].apply(lambda yer: yer.translate(str.maketrans(turkce_ingilizce_ceviri)))\n",
    "\n",
    "# Şehir isimlerini çekmek için düzenli ifade kullanalım\n",
    "\n",
    "def extract_cities(dataframe,column):\n",
    "  sadece_sehirler = []\n",
    "  for yer in dataframe[column]:\n",
    "      eslesme = re.search(r'\\((.*?)\\)', yer)  # Parantez içindekileri kontrol et\n",
    "      if eslesme:\n",
    "          sadece_sehirler.append(eslesme.group(1))  # Parantez içindeki değeri ekle\n",
    "      else:\n",
    "          sadece_sehirler.append(yer)  # Parantez içinde değer yoksa doğrudan ekle\n",
    "  return sadece_sehirler\n",
    "\n",
    "df[\"temizlenmis_yer\"] = extract_cities(df,\"yer\")\n",
    "\n",
    "# Köşeli parantezleri atıyoruz. Böylelikle o şehir/alandaki depremlere odaklanmış oluyoruz.\n",
    "df[\"temizlenmis_yer\"] = df[\"temizlenmis_yer\"].apply(lambda yer: re.sub(r'\\[.*?\\]', '', yer))\n",
    "\n",
    "# Yerin neresi olduğu belli olmadığı için çıkartıyorum.\n",
    "df = df[~(df[\"temizlenmis_yer\"] == \"#NAME?\")]"
   ]
  },
  {
   "cell_type": "code",
   "execution_count": 15,
   "id": "e5508ecf-04ee-4b98-ada8-50e29f4d016b",
   "metadata": {
    "tags": []
   },
   "outputs": [
    {
     "data": {
      "text/plain": [
       "368"
      ]
     },
     "execution_count": 15,
     "metadata": {},
     "output_type": "execute_result"
    }
   ],
   "source": [
    "df.temizlenmis_yer.nunique()"
   ]
  },
  {
   "cell_type": "markdown",
   "id": "1b0e1c9c-3945-44e2-b8e4-1fc10c8365f8",
   "metadata": {
    "jp-MarkdownHeadingCollapsed": true,
    "tags": []
   },
   "source": [
    "## Joining Two Tables"
   ]
  },
  {
   "cell_type": "code",
   "execution_count": 16,
   "id": "2089db55-8d8d-43ce-8053-132b023e3757",
   "metadata": {
    "tags": []
   },
   "outputs": [],
   "source": [
    "df = pd.concat([df,df2_],axis=0,ignore_index=True)"
   ]
  },
  {
   "cell_type": "code",
   "execution_count": 17,
   "id": "a4aac930-3806-45a6-a61a-e85894225579",
   "metadata": {
    "tags": []
   },
   "outputs": [
    {
     "data": {
      "text/html": [
       "<div>\n",
       "<style scoped>\n",
       "    .dataframe tbody tr th:only-of-type {\n",
       "        vertical-align: middle;\n",
       "    }\n",
       "\n",
       "    .dataframe tbody tr th {\n",
       "        vertical-align: top;\n",
       "    }\n",
       "\n",
       "    .dataframe thead th {\n",
       "        text-align: right;\n",
       "    }\n",
       "</style>\n",
       "<table border=\"1\" class=\"dataframe\">\n",
       "  <thead>\n",
       "    <tr style=\"text-align: right;\">\n",
       "      <th></th>\n",
       "      <th>no</th>\n",
       "      <th>deprem kodu</th>\n",
       "      <th>enlem</th>\n",
       "      <th>boylam</th>\n",
       "      <th>derinlik</th>\n",
       "      <th>xm</th>\n",
       "      <th>yer</th>\n",
       "      <th>depremin_olus_zamani</th>\n",
       "      <th>temizlenmis_yer</th>\n",
       "    </tr>\n",
       "  </thead>\n",
       "  <tbody>\n",
       "    <tr>\n",
       "      <th>0</th>\n",
       "      <td>1.0</td>\n",
       "      <td>2.023043e+13</td>\n",
       "      <td>38.3392</td>\n",
       "      <td>37.7633</td>\n",
       "      <td>8.7</td>\n",
       "      <td>4.3</td>\n",
       "      <td>KEPEZ-AKCADAG (MALATYA) [East 1.7 km]</td>\n",
       "      <td>2023-04-30 13:01:27.690</td>\n",
       "      <td>MALATYA</td>\n",
       "    </tr>\n",
       "    <tr>\n",
       "      <th>1</th>\n",
       "      <td>2.0</td>\n",
       "      <td>2.023043e+13</td>\n",
       "      <td>40.8077</td>\n",
       "      <td>31.0708</td>\n",
       "      <td>3.7</td>\n",
       "      <td>3.5</td>\n",
       "      <td>PASAKONAGI- (DUZCE) [South West  0.9 km]</td>\n",
       "      <td>2023-04-30 04:02:53.490</td>\n",
       "      <td>DUZCE</td>\n",
       "    </tr>\n",
       "    <tr>\n",
       "      <th>2</th>\n",
       "      <td>3.0</td>\n",
       "      <td>2.023043e+13</td>\n",
       "      <td>35.6422</td>\n",
       "      <td>34.0252</td>\n",
       "      <td>22.4</td>\n",
       "      <td>3.5</td>\n",
       "      <td>AKDENIZ</td>\n",
       "      <td>2023-04-30 02:51:22.150</td>\n",
       "      <td>AKDENIZ</td>\n",
       "    </tr>\n",
       "    <tr>\n",
       "      <th>3</th>\n",
       "      <td>4.0</td>\n",
       "      <td>2.023043e+13</td>\n",
       "      <td>37.8623</td>\n",
       "      <td>36.2185</td>\n",
       "      <td>5.0</td>\n",
       "      <td>4.0</td>\n",
       "      <td>KARAKUYU-SAIMBEYLI (ADANA) [East 1.4 km]</td>\n",
       "      <td>2023-04-29 19:48:32.870</td>\n",
       "      <td>ADANA</td>\n",
       "    </tr>\n",
       "    <tr>\n",
       "      <th>4</th>\n",
       "      <td>5.0</td>\n",
       "      <td>2.023043e+13</td>\n",
       "      <td>38.0220</td>\n",
       "      <td>36.4457</td>\n",
       "      <td>5.0</td>\n",
       "      <td>3.7</td>\n",
       "      <td>YIRICEK-GOKSUN (KAHRAMANMARAS) [North West  2....</td>\n",
       "      <td>2023-04-29 17:58:29.200</td>\n",
       "      <td>KAHRAMANMARAS</td>\n",
       "    </tr>\n",
       "  </tbody>\n",
       "</table>\n",
       "</div>"
      ],
      "text/plain": [
       "    no   deprem kodu    enlem   boylam  derinlik   xm  \\\n",
       "0  1.0  2.023043e+13  38.3392  37.7633       8.7  4.3   \n",
       "1  2.0  2.023043e+13  40.8077  31.0708       3.7  3.5   \n",
       "2  3.0  2.023043e+13  35.6422  34.0252      22.4  3.5   \n",
       "3  4.0  2.023043e+13  37.8623  36.2185       5.0  4.0   \n",
       "4  5.0  2.023043e+13  38.0220  36.4457       5.0  3.7   \n",
       "\n",
       "                                                 yer    depremin_olus_zamani  \\\n",
       "0              KEPEZ-AKCADAG (MALATYA) [East 1.7 km] 2023-04-30 13:01:27.690   \n",
       "1           PASAKONAGI- (DUZCE) [South West  0.9 km] 2023-04-30 04:02:53.490   \n",
       "2                                            AKDENIZ 2023-04-30 02:51:22.150   \n",
       "3           KARAKUYU-SAIMBEYLI (ADANA) [East 1.4 km] 2023-04-29 19:48:32.870   \n",
       "4  YIRICEK-GOKSUN (KAHRAMANMARAS) [North West  2.... 2023-04-29 17:58:29.200   \n",
       "\n",
       "  temizlenmis_yer  \n",
       "0         MALATYA  \n",
       "1           DUZCE  \n",
       "2         AKDENIZ  \n",
       "3           ADANA  \n",
       "4   KAHRAMANMARAS  "
      ]
     },
     "execution_count": 17,
     "metadata": {},
     "output_type": "execute_result"
    }
   ],
   "source": [
    "df.head()"
   ]
  },
  {
   "cell_type": "code",
   "execution_count": 18,
   "id": "91843de7-6e1b-40c2-ba67-270888c9e104",
   "metadata": {
    "tags": []
   },
   "outputs": [
    {
     "data": {
      "text/plain": [
       "368"
      ]
     },
     "execution_count": 18,
     "metadata": {},
     "output_type": "execute_result"
    }
   ],
   "source": [
    "df.temizlenmis_yer.nunique()"
   ]
  },
  {
   "cell_type": "markdown",
   "id": "0e3311e5-c4a5-4576-9096-b8a24f2504cc",
   "metadata": {
    "jp-MarkdownHeadingCollapsed": true,
    "tags": []
   },
   "source": [
    "## Feature Engineering"
   ]
  },
  {
   "cell_type": "markdown",
   "id": "1fae7199-ef91-4c47-8fec-6c40b39a8d69",
   "metadata": {
    "jp-MarkdownHeadingCollapsed": true,
    "tags": []
   },
   "source": [
    "### Creating DateTime"
   ]
  },
  {
   "cell_type": "code",
   "execution_count": 19,
   "id": "e84135e8-e93f-4bc4-a0cd-ed9c4a8559f7",
   "metadata": {
    "tags": []
   },
   "outputs": [
    {
     "name": "stderr",
     "output_type": "stream",
     "text": [
      "C:\\Users\\oftomurcuk\\AppData\\Local\\Temp\\ipykernel_23528\\4216593417.py:9: FutureWarning: Series.dt.weekofyear and Series.dt.week have been deprecated. Please use Series.dt.isocalendar().week instead.\n",
      "  dataframe['yıl_hafta'] = dataframe[\"depremin_olus_zamani\"].dt.weekofyear\n"
     ]
    }
   ],
   "source": [
    "def creating_datetime_feature(dataframe):\n",
    "    dataframe[\"ay\"] = dataframe[\"depremin_olus_zamani\"].dt.month\n",
    "    dataframe[\"yil\"] = dataframe[\"depremin_olus_zamani\"].dt.year\n",
    "    dataframe[\"ay_gun\"] = dataframe[\"depremin_olus_zamani\"].dt.day\n",
    "    dataframe[\"hafta_gun\"] = dataframe[\"depremin_olus_zamani\"].dt.dayofweek\n",
    "    dataframe[\"saat\"] =  dataframe[\"depremin_olus_zamani\"].dt.hour\n",
    "    dataframe[\"aksam\"] = ((dataframe['saat'] >= 18) & (dataframe['saat'] <= 23)) | ((dataframe['saat'] >= 0) & (dataframe['saat'] <= 4))\n",
    "    dataframe['yıl_gün'] = dataframe[\"depremin_olus_zamani\"].dt.dayofyear\n",
    "    dataframe['yıl_hafta'] = dataframe[\"depremin_olus_zamani\"].dt.weekofyear\n",
    "    dataframe[\"ay_basi\"] = dataframe[\"depremin_olus_zamani\"].dt.is_month_start.astype(int)\n",
    "    dataframe[\"ay_sonu\"] = dataframe[\"depremin_olus_zamani\"].dt.is_month_end.astype(int)\n",
    "    dataframe[\"çeyreklik\"] = dataframe[\"depremin_olus_zamani\"].dt.quarter\n",
    "    return dataframe\n",
    "df = creating_datetime_feature(df)"
   ]
  },
  {
   "cell_type": "code",
   "execution_count": 20,
   "id": "7ea3d2b0-3cff-48f4-a47f-449dd1c9c1ec",
   "metadata": {
    "tags": []
   },
   "outputs": [
    {
     "data": {
      "text/html": [
       "<div>\n",
       "<style scoped>\n",
       "    .dataframe tbody tr th:only-of-type {\n",
       "        vertical-align: middle;\n",
       "    }\n",
       "\n",
       "    .dataframe tbody tr th {\n",
       "        vertical-align: top;\n",
       "    }\n",
       "\n",
       "    .dataframe thead th {\n",
       "        text-align: right;\n",
       "    }\n",
       "</style>\n",
       "<table border=\"1\" class=\"dataframe\">\n",
       "  <thead>\n",
       "    <tr style=\"text-align: right;\">\n",
       "      <th></th>\n",
       "      <th>no</th>\n",
       "      <th>deprem kodu</th>\n",
       "      <th>enlem</th>\n",
       "      <th>boylam</th>\n",
       "      <th>derinlik</th>\n",
       "      <th>xm</th>\n",
       "      <th>yer</th>\n",
       "      <th>depremin_olus_zamani</th>\n",
       "      <th>temizlenmis_yer</th>\n",
       "      <th>ay</th>\n",
       "      <th>yil</th>\n",
       "      <th>ay_gun</th>\n",
       "      <th>hafta_gun</th>\n",
       "      <th>saat</th>\n",
       "      <th>aksam</th>\n",
       "      <th>yıl_gün</th>\n",
       "      <th>yıl_hafta</th>\n",
       "      <th>ay_basi</th>\n",
       "      <th>ay_sonu</th>\n",
       "      <th>çeyreklik</th>\n",
       "    </tr>\n",
       "  </thead>\n",
       "  <tbody>\n",
       "    <tr>\n",
       "      <th>0</th>\n",
       "      <td>1.0</td>\n",
       "      <td>2.023043e+13</td>\n",
       "      <td>38.3392</td>\n",
       "      <td>37.7633</td>\n",
       "      <td>8.7</td>\n",
       "      <td>4.3</td>\n",
       "      <td>KEPEZ-AKCADAG (MALATYA) [East 1.7 km]</td>\n",
       "      <td>2023-04-30 13:01:27.690</td>\n",
       "      <td>MALATYA</td>\n",
       "      <td>4</td>\n",
       "      <td>2023</td>\n",
       "      <td>30</td>\n",
       "      <td>6</td>\n",
       "      <td>13</td>\n",
       "      <td>False</td>\n",
       "      <td>120</td>\n",
       "      <td>17</td>\n",
       "      <td>0</td>\n",
       "      <td>1</td>\n",
       "      <td>2</td>\n",
       "    </tr>\n",
       "    <tr>\n",
       "      <th>1</th>\n",
       "      <td>2.0</td>\n",
       "      <td>2.023043e+13</td>\n",
       "      <td>40.8077</td>\n",
       "      <td>31.0708</td>\n",
       "      <td>3.7</td>\n",
       "      <td>3.5</td>\n",
       "      <td>PASAKONAGI- (DUZCE) [South West  0.9 km]</td>\n",
       "      <td>2023-04-30 04:02:53.490</td>\n",
       "      <td>DUZCE</td>\n",
       "      <td>4</td>\n",
       "      <td>2023</td>\n",
       "      <td>30</td>\n",
       "      <td>6</td>\n",
       "      <td>4</td>\n",
       "      <td>True</td>\n",
       "      <td>120</td>\n",
       "      <td>17</td>\n",
       "      <td>0</td>\n",
       "      <td>1</td>\n",
       "      <td>2</td>\n",
       "    </tr>\n",
       "    <tr>\n",
       "      <th>2</th>\n",
       "      <td>3.0</td>\n",
       "      <td>2.023043e+13</td>\n",
       "      <td>35.6422</td>\n",
       "      <td>34.0252</td>\n",
       "      <td>22.4</td>\n",
       "      <td>3.5</td>\n",
       "      <td>AKDENIZ</td>\n",
       "      <td>2023-04-30 02:51:22.150</td>\n",
       "      <td>AKDENIZ</td>\n",
       "      <td>4</td>\n",
       "      <td>2023</td>\n",
       "      <td>30</td>\n",
       "      <td>6</td>\n",
       "      <td>2</td>\n",
       "      <td>True</td>\n",
       "      <td>120</td>\n",
       "      <td>17</td>\n",
       "      <td>0</td>\n",
       "      <td>1</td>\n",
       "      <td>2</td>\n",
       "    </tr>\n",
       "    <tr>\n",
       "      <th>3</th>\n",
       "      <td>4.0</td>\n",
       "      <td>2.023043e+13</td>\n",
       "      <td>37.8623</td>\n",
       "      <td>36.2185</td>\n",
       "      <td>5.0</td>\n",
       "      <td>4.0</td>\n",
       "      <td>KARAKUYU-SAIMBEYLI (ADANA) [East 1.4 km]</td>\n",
       "      <td>2023-04-29 19:48:32.870</td>\n",
       "      <td>ADANA</td>\n",
       "      <td>4</td>\n",
       "      <td>2023</td>\n",
       "      <td>29</td>\n",
       "      <td>5</td>\n",
       "      <td>19</td>\n",
       "      <td>True</td>\n",
       "      <td>119</td>\n",
       "      <td>17</td>\n",
       "      <td>0</td>\n",
       "      <td>0</td>\n",
       "      <td>2</td>\n",
       "    </tr>\n",
       "    <tr>\n",
       "      <th>4</th>\n",
       "      <td>5.0</td>\n",
       "      <td>2.023043e+13</td>\n",
       "      <td>38.0220</td>\n",
       "      <td>36.4457</td>\n",
       "      <td>5.0</td>\n",
       "      <td>3.7</td>\n",
       "      <td>YIRICEK-GOKSUN (KAHRAMANMARAS) [North West  2....</td>\n",
       "      <td>2023-04-29 17:58:29.200</td>\n",
       "      <td>KAHRAMANMARAS</td>\n",
       "      <td>4</td>\n",
       "      <td>2023</td>\n",
       "      <td>29</td>\n",
       "      <td>5</td>\n",
       "      <td>17</td>\n",
       "      <td>False</td>\n",
       "      <td>119</td>\n",
       "      <td>17</td>\n",
       "      <td>0</td>\n",
       "      <td>0</td>\n",
       "      <td>2</td>\n",
       "    </tr>\n",
       "  </tbody>\n",
       "</table>\n",
       "</div>"
      ],
      "text/plain": [
       "    no   deprem kodu    enlem   boylam  derinlik   xm  \\\n",
       "0  1.0  2.023043e+13  38.3392  37.7633       8.7  4.3   \n",
       "1  2.0  2.023043e+13  40.8077  31.0708       3.7  3.5   \n",
       "2  3.0  2.023043e+13  35.6422  34.0252      22.4  3.5   \n",
       "3  4.0  2.023043e+13  37.8623  36.2185       5.0  4.0   \n",
       "4  5.0  2.023043e+13  38.0220  36.4457       5.0  3.7   \n",
       "\n",
       "                                                 yer    depremin_olus_zamani  \\\n",
       "0              KEPEZ-AKCADAG (MALATYA) [East 1.7 km] 2023-04-30 13:01:27.690   \n",
       "1           PASAKONAGI- (DUZCE) [South West  0.9 km] 2023-04-30 04:02:53.490   \n",
       "2                                            AKDENIZ 2023-04-30 02:51:22.150   \n",
       "3           KARAKUYU-SAIMBEYLI (ADANA) [East 1.4 km] 2023-04-29 19:48:32.870   \n",
       "4  YIRICEK-GOKSUN (KAHRAMANMARAS) [North West  2.... 2023-04-29 17:58:29.200   \n",
       "\n",
       "  temizlenmis_yer  ay   yil  ay_gun  hafta_gun  saat  aksam  yıl_gün  \\\n",
       "0         MALATYA   4  2023      30          6    13  False      120   \n",
       "1           DUZCE   4  2023      30          6     4   True      120   \n",
       "2         AKDENIZ   4  2023      30          6     2   True      120   \n",
       "3           ADANA   4  2023      29          5    19   True      119   \n",
       "4   KAHRAMANMARAS   4  2023      29          5    17  False      119   \n",
       "\n",
       "   yıl_hafta  ay_basi  ay_sonu  çeyreklik  \n",
       "0         17        0        1          2  \n",
       "1         17        0        1          2  \n",
       "2         17        0        1          2  \n",
       "3         17        0        0          2  \n",
       "4         17        0        0          2  "
      ]
     },
     "execution_count": 20,
     "metadata": {},
     "output_type": "execute_result"
    }
   ],
   "source": [
    "df.head()"
   ]
  },
  {
   "cell_type": "markdown",
   "id": "c822cb02-6ef4-48c4-9eb8-ea3712ad9d8a",
   "metadata": {},
   "source": [
    "NaN gelen değerler, iki tablonun joinlenmesinden dolayı oluşuyor. İleride türeteceğimiz Lag featurlar'da bunalara benzer mantıkta NaN çıkan olacak."
   ]
  },
  {
   "cell_type": "markdown",
   "id": "d7f25dd1-54fd-43c5-8cc5-e2240d99d388",
   "metadata": {},
   "source": [
    "Joinlemeden önceki saatleri göster."
   ]
  },
  {
   "cell_type": "code",
   "execution_count": 21,
   "id": "d498afc2-383b-4daf-be42-608060a7e113",
   "metadata": {
    "tags": []
   },
   "outputs": [],
   "source": [
    "# Akşam değişkeni Integer tipine dönüştürülüyor. \n",
    "df[\"aksam\"] = df['aksam'].astype(int)"
   ]
  },
  {
   "cell_type": "markdown",
   "id": "0d65257a-1f6f-48da-9b01-5dbe747da852",
   "metadata": {
    "jp-MarkdownHeadingCollapsed": true,
    "tags": []
   },
   "source": [
    "### Lag Feature"
   ]
  },
  {
   "cell_type": "code",
   "execution_count": 22,
   "id": "91303905-3223-4ce2-91a8-6658aa6044b9",
   "metadata": {
    "tags": []
   },
   "outputs": [],
   "source": [
    "# random noise. Bağımlı değişkenden türeteceğimiz featurelarda, overfitin önüne geçmek için gürültü oluşturacağız.\n",
    "def random_noise(dataframe):\n",
    "    return np.random.normal(scale=1.6, size=(len(dataframe)))"
   ]
  },
  {
   "cell_type": "code",
   "execution_count": 23,
   "id": "c916b864-8eac-49e1-8974-5561c0a00930",
   "metadata": {
    "tags": []
   },
   "outputs": [],
   "source": [
    "# Zamana göre sıralıyoruz Zaman Serilerini.\n",
    "df = df.sort_values(by = [\"depremin_olus_zamani\",\"temizlenmis_yer\"],\n",
    "               axis = 0)"
   ]
  },
  {
   "cell_type": "code",
   "execution_count": 24,
   "id": "f9747fc9-2fc2-4075-a45f-413623baf726",
   "metadata": {
    "tags": []
   },
   "outputs": [],
   "source": [
    "# lag features. Shift ile gecikmeyi sağlıyoruz. \n",
    "# Random noise ile gürültü ekliyoruz. \n",
    "# Transform ile de zaten dönüştürme yapıyoruz.\n",
    "def lag_features(dataframe, lags):\n",
    "    for lag in lags:\n",
    "        dataframe['deprem_lag_' + str(lag)] = dataframe.groupby([\"temizlenmis_yer\"])['xm'].transform(\n",
    "            lambda x: x.shift(lag)) + random_noise(dataframe)\n",
    "    return dataframe"
   ]
  },
  {
   "cell_type": "code",
   "execution_count": 25,
   "id": "f3c1bb32-ad99-4d70-b9dc-4ecfa15a9524",
   "metadata": {
    "tags": []
   },
   "outputs": [],
   "source": [
    "# çeşitli shiftler/lagler/gecikmeler girelim. Gecikme  o zamanki değer demekti unutma. 3 ay ve katları olacak şekilde bakıyorum! Quarter aldım.\n",
    "# Gelecekten Not: Şuanlık veri setinde gün gün gözlem var. Bunları çeyreklik yapınca SMAPE değerimiz arttı!\n",
    "df = lag_features(df, [1, 3, 7, 30, 60, 90, 180, 360])"
   ]
  },
  {
   "cell_type": "code",
   "execution_count": 26,
   "id": "19692d56-42b2-4de3-8553-c0db7495a3fe",
   "metadata": {
    "collapsed": true,
    "jupyter": {
     "outputs_hidden": true
    },
    "tags": []
   },
   "outputs": [
    {
     "data": {
      "text/plain": [
       "no                       2208\n",
       "deprem kodu              2208\n",
       "enlem                       0\n",
       "boylam                      0\n",
       "derinlik                    0\n",
       "xm                       2208\n",
       "yer                      2208\n",
       "depremin_olus_zamani        0\n",
       "temizlenmis_yer             0\n",
       "ay                          0\n",
       "yil                         0\n",
       "ay_gun                      0\n",
       "hafta_gun                   0\n",
       "saat                        0\n",
       "aksam                       0\n",
       "yıl_gün                     0\n",
       "yıl_hafta                   0\n",
       "ay_basi                     0\n",
       "ay_sonu                     0\n",
       "çeyreklik                   0\n",
       "deprem_lag_1             2208\n",
       "deprem_lag_3             2208\n",
       "deprem_lag_7             2576\n",
       "deprem_lag_30            4999\n",
       "deprem_lag_60            6880\n",
       "deprem_lag_90            8363\n",
       "deprem_lag_180          11382\n",
       "deprem_lag_360          14531\n",
       "dtype: int64"
      ]
     },
     "execution_count": 26,
     "metadata": {},
     "output_type": "execute_result"
    }
   ],
   "source": [
    "df.isnull().sum()"
   ]
  },
  {
   "cell_type": "markdown",
   "id": "936151f8-2cf7-4769-8091-7de1f6aab617",
   "metadata": {},
   "source": [
    "Lag verdiğimiz için eksik değer çıkmasını bekliyoruz ve normal karşılıyoruz. Ağaç yöntemleri kullanacağımız için eksik verileri handle etmek için ek çaba sarfetmeyeceğiz. Varyansı bozmak istemiyoruz."
   ]
  },
  {
   "cell_type": "markdown",
   "id": "8858e4f8-e86f-4bca-aa15-687fe07583e4",
   "metadata": {
    "jp-MarkdownHeadingCollapsed": true,
    "tags": []
   },
   "source": [
    "### Rolling Mean Feature"
   ]
  },
  {
   "cell_type": "code",
   "execution_count": 27,
   "id": "199a61c0-4273-4d92-a89e-722a7af58b61",
   "metadata": {
    "tags": []
   },
   "outputs": [],
   "source": [
    "# Rolling Mean Feature\n",
    "# Window parametresi, adım sayısını belirtmek için kullanılıyor.\n",
    "def roll_mean_features(dataframe, windows):\n",
    "    for window in windows:\n",
    "        dataframe['deprem_roll_mean_' + str(window)] = dataframe.groupby([\"temizlenmis_yer\"])['xm']. \\\n",
    "                                                          transform(\n",
    "            lambda x: x.shift(1).rolling(window=window, min_periods=10, win_type=\"triang\").mean()) + random_noise(\n",
    "            dataframe)\n",
    "    return dataframe"
   ]
  },
  {
   "cell_type": "code",
   "execution_count": 28,
   "id": "616f2572-7c5b-4e61-92ae-4e9e2651b066",
   "metadata": {
    "tags": []
   },
   "outputs": [],
   "source": [
    "# Min Periodu 10 yaptığımız için min window'a da 10 girebiliyoruz.\n",
    "df = roll_mean_features(df, [10, 30, 60, 90, 180, 360])"
   ]
  },
  {
   "cell_type": "code",
   "execution_count": 29,
   "id": "4157e802-2ff0-4555-b564-f2a1ec882954",
   "metadata": {
    "collapsed": true,
    "jupyter": {
     "outputs_hidden": true
    },
    "tags": []
   },
   "outputs": [
    {
     "data": {
      "text/plain": [
       "no                       2208\n",
       "deprem kodu              2208\n",
       "enlem                       0\n",
       "boylam                      0\n",
       "derinlik                    0\n",
       "xm                       2208\n",
       "yer                      2208\n",
       "depremin_olus_zamani        0\n",
       "temizlenmis_yer             0\n",
       "ay                          0\n",
       "yil                         0\n",
       "ay_gun                      0\n",
       "hafta_gun                   0\n",
       "saat                        0\n",
       "aksam                       0\n",
       "yıl_gün                     0\n",
       "yıl_hafta                   0\n",
       "ay_basi                     0\n",
       "ay_sonu                     0\n",
       "çeyreklik                   0\n",
       "deprem_lag_1             2208\n",
       "deprem_lag_3             2208\n",
       "deprem_lag_7             2576\n",
       "deprem_lag_30            4999\n",
       "deprem_lag_60            6880\n",
       "deprem_lag_90            8363\n",
       "deprem_lag_180          11382\n",
       "deprem_lag_360          14531\n",
       "deprem_roll_mean_10      3741\n",
       "deprem_roll_mean_30      3226\n",
       "deprem_roll_mean_60      3226\n",
       "deprem_roll_mean_90      3226\n",
       "deprem_roll_mean_180     3226\n",
       "deprem_roll_mean_360     3226\n",
       "dtype: int64"
      ]
     },
     "execution_count": 29,
     "metadata": {},
     "output_type": "execute_result"
    }
   ],
   "source": [
    "df.isnull().sum()"
   ]
  },
  {
   "cell_type": "markdown",
   "id": "764296ba-0a5f-4765-b0f0-2aaf5b3b0d24",
   "metadata": {
    "jp-MarkdownHeadingCollapsed": true,
    "tags": []
   },
   "source": [
    "### Exponentially Weighted Mean Feature"
   ]
  },
  {
   "cell_type": "code",
   "execution_count": 30,
   "id": "50ec21d5-5492-49b6-bdf4-65d456f531f8",
   "metadata": {
    "tags": []
   },
   "outputs": [],
   "source": [
    "# Shift ile gecikme veriyor\n",
    "# ewm ile üs alıyor,\n",
    "# en sonrada ortalamasını alıp transform ile dönüştürüyoruz.\n",
    "def ewm_features(dataframe, alphas, lags):\n",
    "    for alpha in alphas:\n",
    "        for lag in lags:\n",
    "            dataframe['deprem_ewm_alpha_' + str(alpha).replace(\".\", \"\") + \"_lag_\" + str(lag)] = \\\n",
    "                dataframe.groupby([\"temizlenmis_yer\"])['xm'].transform(lambda x: x.shift(lag).ewm(alpha=alpha).mean())\n",
    "    return dataframe"
   ]
  },
  {
   "cell_type": "code",
   "execution_count": 31,
   "id": "24e87b0e-6876-4e50-9a98-2bb731ebd58f",
   "metadata": {
    "tags": []
   },
   "outputs": [],
   "source": [
    "alphas = [0.95, 0.9, 0.8, 0.7, 0.5]\n",
    "lags = [1, 3, 7, 30, 60, 90, 180, 360]"
   ]
  },
  {
   "cell_type": "code",
   "execution_count": 32,
   "id": "247761b9-6f90-4afa-b166-fcdd60af2ffd",
   "metadata": {
    "tags": []
   },
   "outputs": [],
   "source": [
    "df = ewm_features(df, alphas, lags)"
   ]
  },
  {
   "cell_type": "code",
   "execution_count": 33,
   "id": "f7a67aef-09a9-4ddd-b93f-75ae0f57285f",
   "metadata": {
    "collapsed": true,
    "jupyter": {
     "outputs_hidden": true
    },
    "tags": []
   },
   "outputs": [
    {
     "data": {
      "text/plain": [
       "no                               2208\n",
       "deprem kodu                      2208\n",
       "enlem                               0\n",
       "boylam                              0\n",
       "derinlik                            0\n",
       "xm                               2208\n",
       "yer                              2208\n",
       "depremin_olus_zamani                0\n",
       "temizlenmis_yer                     0\n",
       "ay                                  0\n",
       "yil                                 0\n",
       "ay_gun                              0\n",
       "hafta_gun                           0\n",
       "saat                                0\n",
       "aksam                               0\n",
       "yıl_gün                             0\n",
       "yıl_hafta                           0\n",
       "ay_basi                             0\n",
       "ay_sonu                             0\n",
       "çeyreklik                           0\n",
       "deprem_lag_1                     2208\n",
       "deprem_lag_3                     2208\n",
       "deprem_lag_7                     2576\n",
       "deprem_lag_30                    4999\n",
       "deprem_lag_60                    6880\n",
       "deprem_lag_90                    8363\n",
       "deprem_lag_180                  11382\n",
       "deprem_lag_360                  14531\n",
       "deprem_roll_mean_10              3741\n",
       "deprem_roll_mean_30              3226\n",
       "deprem_roll_mean_60              3226\n",
       "deprem_roll_mean_90              3226\n",
       "deprem_roll_mean_180             3226\n",
       "deprem_roll_mean_360             3226\n",
       "deprem_ewm_alpha_095_lag_1        368\n",
       "deprem_ewm_alpha_095_lag_3       1104\n",
       "deprem_ewm_alpha_095_lag_7       2576\n",
       "deprem_ewm_alpha_095_lag_30      4999\n",
       "deprem_ewm_alpha_095_lag_60      6880\n",
       "deprem_ewm_alpha_095_lag_90      8363\n",
       "deprem_ewm_alpha_095_lag_180    11382\n",
       "deprem_ewm_alpha_095_lag_360    14531\n",
       "deprem_ewm_alpha_09_lag_1         368\n",
       "deprem_ewm_alpha_09_lag_3        1104\n",
       "deprem_ewm_alpha_09_lag_7        2576\n",
       "deprem_ewm_alpha_09_lag_30       4999\n",
       "deprem_ewm_alpha_09_lag_60       6880\n",
       "deprem_ewm_alpha_09_lag_90       8363\n",
       "deprem_ewm_alpha_09_lag_180     11382\n",
       "deprem_ewm_alpha_09_lag_360     14531\n",
       "deprem_ewm_alpha_08_lag_1         368\n",
       "deprem_ewm_alpha_08_lag_3        1104\n",
       "deprem_ewm_alpha_08_lag_7        2576\n",
       "deprem_ewm_alpha_08_lag_30       4999\n",
       "deprem_ewm_alpha_08_lag_60       6880\n",
       "deprem_ewm_alpha_08_lag_90       8363\n",
       "deprem_ewm_alpha_08_lag_180     11382\n",
       "deprem_ewm_alpha_08_lag_360     14531\n",
       "deprem_ewm_alpha_07_lag_1         368\n",
       "deprem_ewm_alpha_07_lag_3        1104\n",
       "deprem_ewm_alpha_07_lag_7        2576\n",
       "deprem_ewm_alpha_07_lag_30       4999\n",
       "deprem_ewm_alpha_07_lag_60       6880\n",
       "deprem_ewm_alpha_07_lag_90       8363\n",
       "deprem_ewm_alpha_07_lag_180     11382\n",
       "deprem_ewm_alpha_07_lag_360     14531\n",
       "deprem_ewm_alpha_05_lag_1         368\n",
       "deprem_ewm_alpha_05_lag_3        1104\n",
       "deprem_ewm_alpha_05_lag_7        2576\n",
       "deprem_ewm_alpha_05_lag_30       4999\n",
       "deprem_ewm_alpha_05_lag_60       6880\n",
       "deprem_ewm_alpha_05_lag_90       8363\n",
       "deprem_ewm_alpha_05_lag_180     11382\n",
       "deprem_ewm_alpha_05_lag_360     14531\n",
       "dtype: int64"
      ]
     },
     "execution_count": 33,
     "metadata": {},
     "output_type": "execute_result"
    }
   ],
   "source": [
    "df.isnull().sum()"
   ]
  },
  {
   "cell_type": "markdown",
   "id": "78c32bbc-5b20-4c33-a6a0-1c59e526d280",
   "metadata": {
    "jp-MarkdownHeadingCollapsed": true,
    "tags": []
   },
   "source": [
    "### One Hot Encoding for temislenmis_yer"
   ]
  },
  {
   "cell_type": "code",
   "execution_count": 34,
   "id": "35e83da2-32f4-40aa-8fa8-cedc9eba1c45",
   "metadata": {
    "tags": []
   },
   "outputs": [],
   "source": [
    "df = pd.get_dummies(df, columns=['temizlenmis_yer'])"
   ]
  },
  {
   "cell_type": "code",
   "execution_count": 35,
   "id": "62d9b6b8-d13b-406e-998b-52c531d3d56c",
   "metadata": {
    "tags": []
   },
   "outputs": [
    {
     "data": {
      "text/plain": [
       "(22111, 441)"
      ]
     },
     "execution_count": 35,
     "metadata": {},
     "output_type": "execute_result"
    }
   ],
   "source": [
    "df.shape"
   ]
  },
  {
   "cell_type": "markdown",
   "id": "8891e2ad-4a58-43cb-845b-f4b97dc3e32d",
   "metadata": {},
   "source": [
    "**Gerçekleşen depremlerin sadece %5'i 5.0'dan büyük.**"
   ]
  },
  {
   "cell_type": "markdown",
   "id": "71fe1bd2-f9d2-479e-949d-bf579e8310c5",
   "metadata": {},
   "source": [
    "### Bağımlı Değişkene Log1p Dönüşümünün Uygulanması"
   ]
  },
  {
   "cell_type": "markdown",
   "id": "7517aeae-7158-499f-ae79-09a552b6dff6",
   "metadata": {},
   "source": [
    "Bunu yapmamızın sebebi, zamandan tasarruf sağlamak."
   ]
  },
  {
   "cell_type": "code",
   "execution_count": 36,
   "id": "574f8a3b-8856-4d28-90c9-ae5a1fd7abc9",
   "metadata": {
    "tags": []
   },
   "outputs": [],
   "source": [
    "df['xm'] = np.log1p(df[\"xm\"].values)"
   ]
  },
  {
   "cell_type": "markdown",
   "id": "c1cd7287-9c3e-4342-97fe-ab3364093b68",
   "metadata": {
    "jp-MarkdownHeadingCollapsed": true,
    "tags": []
   },
   "source": [
    "## Custom Cost Func For HistGradientBoostingregressor"
   ]
  },
  {
   "cell_type": "markdown",
   "id": "c82a19e4-c478-4243-823d-71b12a8a2be9",
   "metadata": {},
   "source": [
    "RFRegressor NaN value kabul etmediği için bu HGBR'a dönmek zorunda kaldık."
   ]
  },
  {
   "cell_type": "code",
   "execution_count": 54,
   "id": "81bcfa65-1095-4822-949f-8f3792de0d90",
   "metadata": {
    "tags": []
   },
   "outputs": [],
   "source": [
    "def smape(preds, target):\n",
    "    n = len(preds)\n",
    "    masked_arr = ~((preds == 0) & (target == 0))\n",
    "    preds, target = preds[masked_arr], target[masked_arr]\n",
    "    num = np.abs(preds - target)\n",
    "    denom = np.abs(preds) + np.abs(target)\n",
    "    smape_val = (200 * np.sum(num / denom)) / n\n",
    "    return smape_val\n",
    "\n",
    "def hist_gradient_boosting_smape(preds, train_data):\n",
    "    labels = train_data\n",
    "    smape_val = smape(np.expm1(preds), np.expm1(labels))\n",
    "    return 'SMAPE', smape_val, False"
   ]
  },
  {
   "cell_type": "markdown",
   "id": "8f1b378f-53c9-48b5-b566-a1fe87a0b68a",
   "metadata": {
    "jp-MarkdownHeadingCollapsed": true,
    "tags": []
   },
   "source": [
    "## Time-Based Validation Sets"
   ]
  },
  {
   "cell_type": "code",
   "execution_count": 38,
   "id": "4e6d757b-195f-4855-942c-fbb28d2957a5",
   "metadata": {
    "tags": []
   },
   "outputs": [],
   "source": [
    "# 2023 3 ayı validasyon, öncekilerde eğitim\n",
    "\n",
    "# 2023'nin başına kadar (2022'nın sonuna kadar) train seti.\n",
    "train = df.loc[(df[\"depremin_olus_zamani\"] < \"2023-01-01\"), :]\n",
    "\n",
    "# 2023'nin ilk 3'ayı validasyon seti.\n",
    "val = df.loc[(df[\"depremin_olus_zamani\"] >= \"2023-01-01\") & (df[\"depremin_olus_zamani\"] < \"2023-04-01\"), :]"
   ]
  },
  {
   "cell_type": "code",
   "execution_count": 39,
   "id": "250b22ed-7301-4340-8869-8715b2c84a4c",
   "metadata": {
    "tags": []
   },
   "outputs": [],
   "source": [
    "# train edilirken işimize yaramayacak olan kolonları çıkartalım. Buraya daha sonra enlem ve boylam eklenecek\n",
    "cols = [col for col in df.columns if col not in ['deprem kodu',\"no\",\"yer\",\"depremin_olus_zamani\",\"temizlenmis_yer\",\"xm\"]]"
   ]
  },
  {
   "cell_type": "code",
   "execution_count": 40,
   "id": "8032d238-7f34-43d1-9431-f9453cc9ce9c",
   "metadata": {
    "tags": []
   },
   "outputs": [],
   "source": [
    "# train => X_train, Y_train ....... val => X_val, Y_val\n",
    "Y_train = train['xm']\n",
    "X_train = train[cols]\n",
    "\n",
    "Y_val = val['xm']\n",
    "X_val = val[cols]"
   ]
  },
  {
   "cell_type": "code",
   "execution_count": 41,
   "id": "a84e0dd9-a623-406d-95f3-30ad327fe58e",
   "metadata": {
    "tags": []
   },
   "outputs": [
    {
     "data": {
      "text/plain": [
       "((18424,), (18424, 436), (1383,), (1383, 436))"
      ]
     },
     "execution_count": 41,
     "metadata": {},
     "output_type": "execute_result"
    }
   ],
   "source": [
    "Y_train.shape, X_train.shape, Y_val.shape, X_val.shape"
   ]
  },
  {
   "cell_type": "markdown",
   "id": "a058d4df-411b-420e-90bd-7d142d8d5b7d",
   "metadata": {
    "jp-MarkdownHeadingCollapsed": true,
    "tags": []
   },
   "source": [
    "## Optuna"
   ]
  },
  {
   "cell_type": "markdown",
   "id": "259405d7-6a13-464f-be3c-394d0a46e0b4",
   "metadata": {},
   "source": [
    "Optuna'yı hiperparametre tuningi için kullanacağız. Zamandan tasarruf sağlaması için. GridSearchCV bizi çok yavaşlatıyor."
   ]
  },
  {
   "cell_type": "code",
   "execution_count": 57,
   "id": "68f92a75-1c7a-4094-ab91-11f99ad5c2aa",
   "metadata": {
    "collapsed": true,
    "jupyter": {
     "outputs_hidden": true
    },
    "tags": []
   },
   "outputs": [
    {
     "name": "stderr",
     "output_type": "stream",
     "text": [
      "[I 2023-09-13 10:10:35,252] A new study created in memory with name: no-name-1d249c8f-858f-482e-90e5-f3fd995f0acb\n",
      "[I 2023-09-13 10:10:36,329] Trial 0 finished with value: 4.452495705980679 and parameters: {'max_iter': 370, 'max_depth': 8, 'min_samples_leaf': 74, 'learning_rate': 0.9607184402241471}. Best is trial 0 with value: 4.452495705980679.\n",
      "[I 2023-09-13 10:10:37,465] Trial 1 finished with value: 4.462329193066047 and parameters: {'max_iter': 163, 'max_depth': 22, 'min_samples_leaf': 50, 'learning_rate': 0.9079087147589494}. Best is trial 0 with value: 4.452495705980679.\n",
      "[I 2023-09-13 10:10:39,488] Trial 2 finished with value: 4.214396012382098 and parameters: {'max_iter': 181, 'max_depth': 30, 'min_samples_leaf': 53, 'learning_rate': 0.19715240616558313}. Best is trial 2 with value: 4.214396012382098.\n",
      "[I 2023-09-13 10:10:40,777] Trial 3 finished with value: 4.343207383786605 and parameters: {'max_iter': 265, 'max_depth': 31, 'min_samples_leaf': 7, 'learning_rate': 0.6534006736266874}. Best is trial 2 with value: 4.214396012382098.\n",
      "[I 2023-09-13 10:10:42,333] Trial 4 finished with value: 4.388314103163294 and parameters: {'max_iter': 570, 'max_depth': 19, 'min_samples_leaf': 1, 'learning_rate': 0.4424883852893007}. Best is trial 2 with value: 4.214396012382098.\n",
      "[I 2023-09-13 10:10:43,509] Trial 5 finished with value: 4.557179131030729 and parameters: {'max_iter': 429, 'max_depth': 17, 'min_samples_leaf': 4, 'learning_rate': 0.9289263253562801}. Best is trial 2 with value: 4.214396012382098.\n",
      "[I 2023-09-13 10:10:44,808] Trial 6 finished with value: 4.332612978582823 and parameters: {'max_iter': 375, 'max_depth': 11, 'min_samples_leaf': 18, 'learning_rate': 0.6210998279637797}. Best is trial 2 with value: 4.214396012382098.\n",
      "[I 2023-09-13 10:10:46,033] Trial 7 finished with value: 4.429034251031963 and parameters: {'max_iter': 649, 'max_depth': 27, 'min_samples_leaf': 86, 'learning_rate': 0.9728505805212543}. Best is trial 2 with value: 4.214396012382098.\n",
      "[I 2023-09-13 10:10:52,446] Trial 8 finished with value: 4.166445113505584 and parameters: {'max_iter': 570, 'max_depth': 6, 'min_samples_leaf': 6, 'learning_rate': 0.04959102586711356}. Best is trial 8 with value: 4.166445113505584.\n",
      "[I 2023-09-13 10:10:53,783] Trial 9 finished with value: 4.52062002486393 and parameters: {'max_iter': 23, 'max_depth': 29, 'min_samples_leaf': 62, 'learning_rate': 0.8968456715417203}. Best is trial 8 with value: 4.166445113505584.\n",
      "[I 2023-09-13 10:11:02,947] Trial 10 finished with value: 4.094413001114499 and parameters: {'max_iter': 911, 'max_depth': 2, 'min_samples_leaf': 32, 'learning_rate': 0.006916229492203101}. Best is trial 10 with value: 4.094413001114499.\n",
      "[I 2023-09-13 10:11:07,921] Trial 11 finished with value: 4.093305418118394 and parameters: {'max_iter': 881, 'max_depth': 2, 'min_samples_leaf': 34, 'learning_rate': 0.017758166822477606}. Best is trial 11 with value: 4.093305418118394.\n",
      "[I 2023-09-13 10:11:10,489] Trial 12 finished with value: 4.097934887564027 and parameters: {'max_iter': 936, 'max_depth': 2, 'min_samples_leaf': 33, 'learning_rate': 0.041939622091837665}. Best is trial 11 with value: 4.093305418118394.\n",
      "[I 2023-09-13 10:11:11,299] Trial 13 finished with value: 4.101451294863206 and parameters: {'max_iter': 974, 'max_depth': 2, 'min_samples_leaf': 31, 'learning_rate': 0.22031131853443614}. Best is trial 11 with value: 4.093305418118394.\n",
      "[I 2023-09-13 10:11:23,815] Trial 14 finished with value: 4.161753780416253 and parameters: {'max_iter': 791, 'max_depth': 13, 'min_samples_leaf': 37, 'learning_rate': 0.025363204910210824}. Best is trial 11 with value: 4.093305418118394.\n",
      "[I 2023-09-13 10:11:26,402] Trial 15 finished with value: 4.188305711529057 and parameters: {'max_iter': 818, 'max_depth': 6, 'min_samples_leaf': 24, 'learning_rate': 0.18989997262190336}. Best is trial 11 with value: 4.093305418118394.\n",
      "[I 2023-09-13 10:11:28,392] Trial 16 finished with value: 4.20454530224582 and parameters: {'max_iter': 758, 'max_depth': 12, 'min_samples_leaf': 100, 'learning_rate': 0.3232052770410806}. Best is trial 11 with value: 4.093305418118394.\n",
      "[I 2023-09-13 10:11:29,655] Trial 17 finished with value: 4.099099862673662 and parameters: {'max_iter': 877, 'max_depth': 2, 'min_samples_leaf': 42, 'learning_rate': 0.12191604132773119}. Best is trial 11 with value: 4.093305418118394.\n",
      "[I 2023-09-13 10:12:15,340] Trial 18 finished with value: 4.155891489649604 and parameters: {'max_iter': 707, 'max_depth': 8, 'min_samples_leaf': 19, 'learning_rate': 0.006349040492922342}. Best is trial 11 with value: 4.093305418118394.\n",
      "[I 2023-09-13 10:12:17,681] Trial 19 finished with value: 4.181952709183965 and parameters: {'max_iter': 895, 'max_depth': 16, 'min_samples_leaf': 62, 'learning_rate': 0.3108208628899591}. Best is trial 11 with value: 4.093305418118394.\n",
      "[I 2023-09-13 10:12:20,320] Trial 20 finished with value: 4.189937384832159 and parameters: {'max_iter': 660, 'max_depth': 5, 'min_samples_leaf': 46, 'learning_rate': 0.11893391302530965}. Best is trial 11 with value: 4.093305418118394.\n",
      "[I 2023-09-13 10:12:29,091] Trial 21 finished with value: 4.093595920442721 and parameters: {'max_iter': 987, 'max_depth': 2, 'min_samples_leaf': 31, 'learning_rate': 0.009828827158642223}. Best is trial 11 with value: 4.093305418118394.\n",
      "[I 2023-09-13 10:12:31,106] Trial 22 finished with value: 4.1190514988151 and parameters: {'max_iter': 961, 'max_depth': 4, 'min_samples_leaf': 24, 'learning_rate': 0.11773704595103396}. Best is trial 11 with value: 4.093305418118394.\n",
      "[I 2023-09-13 10:14:15,214] Trial 23 finished with value: 4.1462382783649145 and parameters: {'max_iter': 998, 'max_depth': 9, 'min_samples_leaf': 31, 'learning_rate': 0.0027409037543823078}. Best is trial 11 with value: 4.093305418118394.\n",
      "[I 2023-09-13 10:14:17,590] Trial 24 finished with value: 4.124160286444792 and parameters: {'max_iter': 829, 'max_depth': 4, 'min_samples_leaf': 14, 'learning_rate': 0.09417339953167747}. Best is trial 11 with value: 4.093305418118394.\n",
      "[I 2023-09-13 10:14:20,795] Trial 25 finished with value: 4.207734939000968 and parameters: {'max_iter': 881, 'max_depth': 10, 'min_samples_leaf': 41, 'learning_rate': 0.18579188268396052}. Best is trial 11 with value: 4.093305418118394.\n",
      "[I 2023-09-13 10:14:25,748] Trial 26 finished with value: 4.192278640210973 and parameters: {'max_iter': 720, 'max_depth': 7, 'min_samples_leaf': 26, 'learning_rate': 0.10068608183666705}. Best is trial 11 with value: 4.093305418118394.\n",
      "[I 2023-09-13 10:15:34,936] Trial 27 finished with value: 4.150194101412334 and parameters: {'max_iter': 862, 'max_depth': 14, 'min_samples_leaf': 56, 'learning_rate': 0.004638875233756884}. Best is trial 11 with value: 4.093305418118394.\n",
      "[I 2023-09-13 10:15:36,419] Trial 28 finished with value: 4.211781825156526 and parameters: {'max_iter': 917, 'max_depth': 4, 'min_samples_leaf': 12, 'learning_rate': 0.28495741084982995}. Best is trial 11 with value: 4.093305418118394.\n",
      "[I 2023-09-13 10:15:43,843] Trial 29 finished with value: 4.207434091175243 and parameters: {'max_iter': 541, 'max_depth': 21, 'min_samples_leaf': 73, 'learning_rate': 0.07755377722142213}. Best is trial 11 with value: 4.093305418118394.\n",
      "[I 2023-09-13 10:15:47,424] Trial 30 finished with value: 4.180418498266337 and parameters: {'max_iter': 469, 'max_depth': 9, 'min_samples_leaf': 37, 'learning_rate': 0.1461013025646919}. Best is trial 11 with value: 4.093305418118394.\n",
      "[I 2023-09-13 10:15:49,335] Trial 31 finished with value: 4.095674437939909 and parameters: {'max_iter': 926, 'max_depth': 2, 'min_samples_leaf': 32, 'learning_rate': 0.060901928283664475}. Best is trial 11 with value: 4.093305418118394.\n",
      "[I 2023-09-13 10:15:51,332] Trial 32 finished with value: 4.106633745369652 and parameters: {'max_iter': 999, 'max_depth': 2, 'min_samples_leaf': 45, 'learning_rate': 0.07025690788019012}. Best is trial 11 with value: 4.093305418118394.\n",
      "[I 2023-09-13 10:16:22,431] Trial 33 finished with value: 4.114821708562644 and parameters: {'max_iter': 773, 'max_depth': 4, 'min_samples_leaf': 29, 'learning_rate': 0.0027229859777896537}. Best is trial 11 with value: 4.093305418118394.\n",
      "[I 2023-09-13 10:16:26,484] Trial 34 finished with value: 4.198954308864863 and parameters: {'max_iter': 936, 'max_depth': 7, 'min_samples_leaf': 37, 'learning_rate': 0.1620861811317797}. Best is trial 11 with value: 4.093305418118394.\n",
      "[I 2023-09-13 10:16:30,052] Trial 35 finished with value: 4.228967490459232 and parameters: {'max_iter': 826, 'max_depth': 24, 'min_samples_leaf': 50, 'learning_rate': 0.24022863245951392}. Best is trial 11 with value: 4.093305418118394.\n",
      "[I 2023-09-13 10:16:33,079] Trial 36 finished with value: 4.110302332288818 and parameters: {'max_iter': 645, 'max_depth': 3, 'min_samples_leaf': 19, 'learning_rate': 0.07127101645037778}. Best is trial 11 with value: 4.093305418118394.\n",
      "[I 2023-09-13 10:16:36,850] Trial 37 finished with value: 4.1374040378097146 and parameters: {'max_iter': 930, 'max_depth': 6, 'min_samples_leaf': 52, 'learning_rate': 0.15679432925085648}. Best is trial 11 with value: 4.093305418118394.\n",
      "[I 2023-09-13 10:16:42,269] Trial 38 finished with value: 4.148274151804029 and parameters: {'max_iter': 734, 'max_depth': 5, 'min_samples_leaf': 23, 'learning_rate': 0.07051943514078918}. Best is trial 11 with value: 4.093305418118394.\n",
      "[I 2023-09-13 10:16:45,440] Trial 39 finished with value: 4.229963223884083 and parameters: {'max_iter': 200, 'max_depth': 8, 'min_samples_leaf': 12, 'learning_rate': 0.23565124473042978}. Best is trial 11 with value: 4.093305418118394.\n",
      "[I 2023-09-13 10:16:47,028] Trial 40 finished with value: 4.114366980246153 and parameters: {'max_iter': 871, 'max_depth': 3, 'min_samples_leaf': 35, 'learning_rate': 0.14419091574837967}. Best is trial 11 with value: 4.093305418118394.\n",
      "[I 2023-09-13 10:16:49,398] Trial 41 finished with value: 4.096004320630108 and parameters: {'max_iter': 941, 'max_depth': 2, 'min_samples_leaf': 33, 'learning_rate': 0.05739483507196623}. Best is trial 11 with value: 4.093305418118394.\n",
      "[I 2023-09-13 10:16:51,456] Trial 42 finished with value: 4.095161320401318 and parameters: {'max_iter': 998, 'max_depth': 2, 'min_samples_leaf': 28, 'learning_rate': 0.05408262298680857}. Best is trial 11 with value: 4.093305418118394.\n",
      "[I 2023-09-13 10:16:57,623] Trial 43 finished with value: 4.164624155598289 and parameters: {'max_iter': 997, 'max_depth': 5, 'min_samples_leaf': 28, 'learning_rate': 0.05498750966924019}. Best is trial 11 with value: 4.093305418118394.\n",
      "[I 2023-09-13 10:16:59,586] Trial 44 finished with value: 4.104301108844733 and parameters: {'max_iter': 359, 'max_depth': 3, 'min_samples_leaf': 42, 'learning_rate': 0.10797033850117219}. Best is trial 11 with value: 4.093305418118394.\n",
      "[I 2023-09-13 10:17:11,080] Trial 45 finished with value: 4.164072899037641 and parameters: {'max_iter': 844, 'max_depth': 6, 'min_samples_leaf': 16, 'learning_rate': 0.03520932212198087}. Best is trial 11 with value: 4.093305418118394.\n",
      "[I 2023-09-13 10:17:12,334] Trial 46 finished with value: 4.096249527000923 and parameters: {'max_iter': 907, 'max_depth': 2, 'min_samples_leaf': 21, 'learning_rate': 0.19078077596944118}. Best is trial 11 with value: 4.093305418118394.\n",
      "[I 2023-09-13 10:17:23,425] Trial 47 finished with value: 4.162405304378351 and parameters: {'max_iter': 804, 'max_depth': 25, 'min_samples_leaf': 28, 'learning_rate': 0.041061326673505684}. Best is trial 11 with value: 4.093305418118394.\n",
      "[I 2023-09-13 10:17:25,659] Trial 48 finished with value: 4.265022808816442 and parameters: {'max_iter': 56, 'max_depth': 32, 'min_samples_leaf': 46, 'learning_rate': 0.38079362633775143}. Best is trial 11 with value: 4.093305418118394.\n",
      "[I 2023-09-13 10:17:29,899] Trial 49 finished with value: 4.211262374112336 and parameters: {'max_iter': 969, 'max_depth': 7, 'min_samples_leaf': 36, 'learning_rate': 0.12916367086854727}. Best is trial 11 with value: 4.093305418118394.\n",
      "[I 2023-09-13 10:19:12,979] Trial 50 finished with value: 4.137983024905808 and parameters: {'max_iter': 902, 'max_depth': 11, 'min_samples_leaf': 58, 'learning_rate': 0.0018612801642881385}. Best is trial 11 with value: 4.093305418118394.\n",
      "[I 2023-09-13 10:19:15,304] Trial 51 finished with value: 4.107212846352703 and parameters: {'max_iter': 951, 'max_depth': 3, 'min_samples_leaf': 32, 'learning_rate': 0.06403843903967843}. Best is trial 11 with value: 4.093305418118394.\n",
      "[I 2023-09-13 10:19:17,569] Trial 52 finished with value: 4.097812976131159 and parameters: {'max_iter': 934, 'max_depth': 2, 'min_samples_leaf': 41, 'learning_rate': 0.04565087749760933}. Best is trial 11 with value: 4.093305418118394.\n",
      "[I 2023-09-13 10:19:21,108] Trial 53 finished with value: 4.146777472859444 and parameters: {'max_iter': 968, 'max_depth': 5, 'min_samples_leaf': 26, 'learning_rate': 0.1006864031471488}. Best is trial 11 with value: 4.093305418118394.\n",
      "[I 2023-09-13 10:19:26,853] Trial 54 finished with value: 4.112149442270421 and parameters: {'max_iter': 850, 'max_depth': 4, 'min_samples_leaf': 33, 'learning_rate': 0.033954478323959966}. Best is trial 11 with value: 4.093305418118394.\n",
      "[I 2023-09-13 10:19:28,083] Trial 55 finished with value: 4.1093573571228115 and parameters: {'max_iter': 785, 'max_depth': 2, 'min_samples_leaf': 9, 'learning_rate': 0.17568775220658728}. Best is trial 11 with value: 4.093305418118394.\n",
      "[I 2023-09-13 10:19:30,436] Trial 56 finished with value: 4.110537081822891 and parameters: {'max_iter': 886, 'max_depth': 3, 'min_samples_leaf': 39, 'learning_rate': 0.09123122869321688}. Best is trial 11 with value: 4.093305418118394.\n",
      "[I 2023-09-13 10:19:33,838] Trial 57 finished with value: 4.2238549182498355 and parameters: {'max_iter': 997, 'max_depth': 18, 'min_samples_leaf': 23, 'learning_rate': 0.21534825206712538}. Best is trial 11 with value: 4.093305418118394.\n",
      "[I 2023-09-13 10:19:36,547] Trial 58 finished with value: 4.170246436352154 and parameters: {'max_iter': 954, 'max_depth': 5, 'min_samples_leaf': 31, 'learning_rate': 0.13571415316785557}. Best is trial 11 with value: 4.093305418118394.\n",
      "[I 2023-09-13 10:19:40,186] Trial 59 finished with value: 4.095656630468709 and parameters: {'max_iter': 914, 'max_depth': 2, 'min_samples_leaf': 45, 'learning_rate': 0.03335998465780443}. Best is trial 11 with value: 4.093305418118394.\n",
      "[I 2023-09-13 10:19:45,088] Trial 60 finished with value: 4.124036563854085 and parameters: {'max_iter': 622, 'max_depth': 4, 'min_samples_leaf': 47, 'learning_rate': 0.04097564174942919}. Best is trial 11 with value: 4.093305418118394.\n",
      "[I 2023-09-13 10:19:46,586] Trial 61 finished with value: 4.103091165537692 and parameters: {'max_iter': 910, 'max_depth': 2, 'min_samples_leaf': 34, 'learning_rate': 0.07947803299115337}. Best is trial 11 with value: 4.093305418118394.\n",
      "[I 2023-09-13 10:19:51,900] Trial 62 finished with value: 4.10682636044219 and parameters: {'max_iter': 856, 'max_depth': 3, 'min_samples_leaf': 28, 'learning_rate': 0.024361028603642705}. Best is trial 11 with value: 4.093305418118394.\n",
      "[I 2023-09-13 10:19:53,791] Trial 63 finished with value: 4.104982266392057 and parameters: {'max_iter': 967, 'max_depth': 2, 'min_samples_leaf': 39, 'learning_rate': 0.11600385821735947}. Best is trial 11 with value: 4.093305418118394.\n",
      "[I 2023-09-13 10:21:00,314] Trial 64 finished with value: 4.156145111836835 and parameters: {'max_iter': 751, 'max_depth': 6, 'min_samples_leaf': 49, 'learning_rate': 0.0012379987433467146}. Best is trial 11 with value: 4.093305418118394.\n",
      "[I 2023-09-13 10:21:10,635] Trial 65 finished with value: 4.176231405495804 and parameters: {'max_iter': 915, 'max_depth': 29, 'min_samples_leaf': 31, 'learning_rate': 0.053069681133981715}. Best is trial 11 with value: 4.093305418118394.\n",
      "[I 2023-09-13 10:21:13,101] Trial 66 finished with value: 4.130140955509453 and parameters: {'max_iter': 820, 'max_depth': 4, 'min_samples_leaf': 43, 'learning_rate': 0.10151811977931263}. Best is trial 11 with value: 4.093305418118394.\n",
      "[I 2023-09-13 10:21:17,157] Trial 67 finished with value: 4.214242202766931 and parameters: {'max_iter': 879, 'max_depth': 15, 'min_samples_leaf': 20, 'learning_rate': 0.16601111639683747}. Best is trial 11 with value: 4.093305418118394.\n",
      "[I 2023-09-13 10:21:32,900] Trial 68 finished with value: 4.183037443249777 and parameters: {'max_iter': 936, 'max_depth': 7, 'min_samples_leaf': 55, 'learning_rate': 0.026910690502944395}. Best is trial 11 with value: 4.093305418118394.\n",
      "[I 2023-09-13 10:21:35,325] Trial 69 finished with value: 4.108259942108498 and parameters: {'max_iter': 995, 'max_depth': 3, 'min_samples_leaf': 95, 'learning_rate': 0.06894091924011284}. Best is trial 11 with value: 4.093305418118394.\n",
      "[I 2023-09-13 10:21:40,124] Trial 70 finished with value: 4.171348401446505 and parameters: {'max_iter': 690, 'max_depth': 20, 'min_samples_leaf': 39, 'learning_rate': 0.1408706404879914}. Best is trial 11 with value: 4.093305418118394.\n",
      "[I 2023-09-13 10:21:41,739] Trial 71 finished with value: 4.106287912976279 and parameters: {'max_iter': 899, 'max_depth': 2, 'min_samples_leaf': 21, 'learning_rate': 0.09323814468011307}. Best is trial 11 with value: 4.093305418118394.\n",
      "[I 2023-09-13 10:21:43,245] Trial 72 finished with value: 4.151811317364037 and parameters: {'max_iter': 931, 'max_depth': 4, 'min_samples_leaf': 2, 'learning_rate': 0.19925755302006404}. Best is trial 11 with value: 4.093305418118394.\n",
      "[I 2023-09-13 10:21:47,253] Trial 73 finished with value: 4.094018545970121 and parameters: {'max_iter': 850, 'max_depth': 2, 'min_samples_leaf': 26, 'learning_rate': 0.027084024848792132}. Best is trial 11 with value: 4.093305418118394.\n",
      "[I 2023-09-13 10:21:59,232] Trial 74 finished with value: 4.132050360968398 and parameters: {'max_iter': 841, 'max_depth': 5, 'min_samples_leaf': 25, 'learning_rate': 0.019786990199337856}. Best is trial 11 with value: 4.093305418118394.\n",
      "[I 2023-09-13 10:22:02,085] Trial 75 finished with value: 4.1006909777460105 and parameters: {'max_iter': 794, 'max_depth': 3, 'min_samples_leaf': 17, 'learning_rate': 0.06005503447330822}. Best is trial 11 with value: 4.093305418118394.\n",
      "[I 2023-09-13 10:22:15,553] Trial 76 finished with value: 4.095347921932774 and parameters: {'max_iter': 963, 'max_depth': 2, 'min_samples_leaf': 70, 'learning_rate': 0.0011224392565552035}. Best is trial 11 with value: 4.093305418118394.\n",
      "[I 2023-09-13 10:22:22,541] Trial 77 finished with value: 4.115054916541303 and parameters: {'max_iter': 320, 'max_depth': 4, 'min_samples_leaf': 69, 'learning_rate': 0.02511325267409812}. Best is trial 11 with value: 4.093305418118394.\n",
      "[I 2023-09-13 10:22:27,135] Trial 78 finished with value: 4.178133511830742 and parameters: {'max_iter': 975, 'max_depth': 6, 'min_samples_leaf': 69, 'learning_rate': 0.08450345013662695}. Best is trial 11 with value: 4.093305418118394.\n",
      "[I 2023-09-13 10:23:32,467] Trial 79 finished with value: 4.1542938832732785 and parameters: {'max_iter': 876, 'max_depth': 9, 'min_samples_leaf': 36, 'learning_rate': 0.005247657616613133}. Best is trial 11 with value: 4.093305418118394.\n",
      "[I 2023-09-13 10:23:34,508] Trial 80 finished with value: 4.1096664918179835 and parameters: {'max_iter': 441, 'max_depth': 3, 'min_samples_leaf': 84, 'learning_rate': 0.11850156313288977}. Best is trial 11 with value: 4.093305418118394.\n",
      "[I 2023-09-13 10:23:38,897] Trial 81 finished with value: 4.098567863960403 and parameters: {'max_iter': 951, 'max_depth': 2, 'min_samples_leaf': 30, 'learning_rate': 0.04404237763560289}. Best is trial 11 with value: 4.093305418118394.\n",
      "[I 2023-09-13 10:23:41,614] Trial 82 finished with value: 4.102876051060534 and parameters: {'max_iter': 920, 'max_depth': 2, 'min_samples_leaf': 79, 'learning_rate': 0.06691718807272976}. Best is trial 11 with value: 4.093305418118394.\n",
      "[I 2023-09-13 10:23:48,709] Trial 83 finished with value: 4.102591650350822 and parameters: {'max_iter': 972, 'max_depth': 3, 'min_samples_leaf': 26, 'learning_rate': 0.018433780955696664}. Best is trial 11 with value: 4.093305418118394.\n",
      "[I 2023-09-13 10:23:55,100] Trial 84 finished with value: 4.1373562926392795 and parameters: {'max_iter': 857, 'max_depth': 5, 'min_samples_leaf': 34, 'learning_rate': 0.046253870378903855}. Best is trial 11 with value: 4.093305418118394.\n",
      "[I 2023-09-13 10:23:57,897] Trial 85 finished with value: 4.125454083424773 and parameters: {'max_iter': 947, 'max_depth': 4, 'min_samples_leaf': 28, 'learning_rate': 0.07836052807063737}. Best is trial 11 with value: 4.093305418118394.\n",
      "[I 2023-09-13 10:23:59,414] Trial 86 finished with value: 4.09799058747623 and parameters: {'max_iter': 902, 'max_depth': 2, 'min_samples_leaf': 44, 'learning_rate': 0.12458402543888869}. Best is trial 11 with value: 4.093305418118394.\n",
      "[I 2023-09-13 10:24:04,045] Trial 87 finished with value: 4.105439056053448 and parameters: {'max_iter': 813, 'max_depth': 3, 'min_samples_leaf': 23, 'learning_rate': 0.028957253358266953}. Best is trial 11 with value: 4.093305418118394.\n",
      "[I 2023-09-13 10:24:08,531] Trial 88 finished with value: 4.1728440277208065 and parameters: {'max_iter': 976, 'max_depth': 6, 'min_samples_leaf': 61, 'learning_rate': 0.09441348305905428}. Best is trial 11 with value: 4.093305418118394.\n",
      "[I 2023-09-13 10:24:14,353] Trial 89 finished with value: 4.1578055160882075 and parameters: {'max_iter': 882, 'max_depth': 5, 'min_samples_leaf': 32, 'learning_rate': 0.05710102091642821}. Best is trial 11 with value: 4.093305418118394.\n",
      "[I 2023-09-13 10:24:16,022] Trial 90 finished with value: 4.110413697669346 and parameters: {'max_iter': 921, 'max_depth': 2, 'min_samples_leaf': 39, 'learning_rate': 0.1477724621810955}. Best is trial 11 with value: 4.093305418118394.\n",
      "[I 2023-09-13 10:24:21,238] Trial 91 finished with value: 4.110268735481974 and parameters: {'max_iter': 987, 'max_depth': 3, 'min_samples_leaf': 14, 'learning_rate': 0.027417920709616208}. Best is trial 11 with value: 4.093305418118394.\n",
      "[I 2023-09-13 10:24:34,973] Trial 92 finished with value: 4.088345142426422 and parameters: {'max_iter': 897, 'max_depth': 2, 'min_samples_leaf': 22, 'learning_rate': 0.003329803875894422}. Best is trial 92 with value: 4.088345142426422.\n",
      "[I 2023-09-13 10:24:46,872] Trial 93 finished with value: 4.090007029196741 and parameters: {'max_iter': 836, 'max_depth': 2, 'min_samples_leaf': 26, 'learning_rate': 0.0016140080568966507}. Best is trial 92 with value: 4.088345142426422.\n",
      "[I 2023-09-13 10:25:06,775] Trial 94 finished with value: 4.113182338136323 and parameters: {'max_iter': 837, 'max_depth': 4, 'min_samples_leaf': 26, 'learning_rate': 0.007811833023925082}. Best is trial 92 with value: 4.088345142426422.\n",
      "[I 2023-09-13 10:25:09,681] Trial 95 finished with value: 4.1009570083523705 and parameters: {'max_iter': 875, 'max_depth': 3, 'min_samples_leaf': 22, 'learning_rate': 0.04468320532235307}. Best is trial 92 with value: 4.088345142426422.\n",
      "[I 2023-09-13 10:25:21,148] Trial 96 finished with value: 4.087847790413788 and parameters: {'max_iter': 774, 'max_depth': 2, 'min_samples_leaf': 18, 'learning_rate': 0.0018862398822892638}. Best is trial 96 with value: 4.087847790413788.\n",
      "[I 2023-09-13 10:25:32,229] Trial 97 finished with value: 4.092115902673957 and parameters: {'max_iter': 766, 'max_depth': 2, 'min_samples_leaf': 18, 'learning_rate': 0.006971955305078996}. Best is trial 96 with value: 4.087847790413788.\n",
      "[I 2023-09-13 10:25:58,406] Trial 98 finished with value: 4.115633110907343 and parameters: {'max_iter': 772, 'max_depth': 4, 'min_samples_leaf': 15, 'learning_rate': 0.008135760019737346}. Best is trial 96 with value: 4.087847790413788.\n",
      "[I 2023-09-13 10:26:19,458] Trial 99 finished with value: 4.097557565548048 and parameters: {'max_iter': 731, 'max_depth': 3, 'min_samples_leaf': 10, 'learning_rate': 0.0042447774552624995}. Best is trial 96 with value: 4.087847790413788.\n"
     ]
    }
   ],
   "source": [
    "def objective(trial):\n",
    "    # Define the hyperparameters to optimize\n",
    "    max_iter = trial.suggest_int('max_iter', 10, 1000)\n",
    "    max_depth = trial.suggest_int('max_depth', 2, 32)\n",
    "    min_samples_leaf = trial.suggest_int('min_samples_leaf', 1, 100)\n",
    "    learning_rate = trial.suggest_float('learning_rate', 0.001, 1.0)\n",
    "    \n",
    "    # Create and train the HistGradientBoostingRegressor\n",
    "    model = HistGradientBoostingRegressor(\n",
    "        max_iter=max_iter,\n",
    "        max_depth=max_depth,\n",
    "        min_samples_leaf=min_samples_leaf,\n",
    "        learning_rate=learning_rate,\n",
    "        random_state=42\n",
    "    )\n",
    "    \n",
    "    # Train the model\n",
    "    model.fit(X_train, Y_train)\n",
    "    \n",
    "    # Predict on the validation set\n",
    "    y_pred_val = model.predict(X_val)\n",
    "    \n",
    "    # Calculate SMAPE on the validation set\n",
    "    smape_val = smape(y_pred_val, Y_val)\n",
    "    \n",
    "    return smape_val\n",
    "\n",
    "# Create an Optuna study\n",
    "study = optuna.create_study(direction='minimize')  # Minimize SMAPE\n",
    "\n",
    "# Optimize hyperparameters\n",
    "study.optimize(objective, n_trials=100)\n",
    "\n",
    "# Get the best hyperparameters\n",
    "best_params = study.best_params"
   ]
  },
  {
   "cell_type": "code",
   "execution_count": 58,
   "id": "57f3766a-8e56-4754-90a8-97798ed7d56b",
   "metadata": {
    "tags": []
   },
   "outputs": [
    {
     "data": {
      "text/plain": [
       "{'max_iter': 774,\n",
       " 'max_depth': 2,\n",
       " 'min_samples_leaf': 18,\n",
       " 'learning_rate': 0.0018862398822892638}"
      ]
     },
     "execution_count": 58,
     "metadata": {},
     "output_type": "execute_result"
    }
   ],
   "source": [
    "best_params"
   ]
  },
  {
   "cell_type": "markdown",
   "id": "3bf789e4-c232-461e-8f2f-26861b49e12a",
   "metadata": {},
   "source": [
    "## Model Developing"
   ]
  },
  {
   "cell_type": "code",
   "execution_count": 59,
   "id": "ef528be1-fdcc-499c-990f-edd00f970543",
   "metadata": {
    "tags": []
   },
   "outputs": [],
   "source": [
    "optimized_params = {\n",
    "    'max_iter': 774,\n",
    "    'max_depth': 2,\n",
    "    'min_samples_leaf': 18,\n",
    "    'learning_rate': 0.0018862398822892638\n",
    "}"
   ]
  },
  {
   "cell_type": "code",
   "execution_count": 60,
   "id": "bad741f4-a7fa-4d96-a0ae-7d72ceda79ee",
   "metadata": {
    "tags": []
   },
   "outputs": [],
   "source": [
    "model = HistGradientBoostingRegressor(\n",
    "    max_iter=optimized_params['max_iter'],\n",
    "    max_depth=optimized_params['max_depth'],\n",
    "    min_samples_leaf=optimized_params['min_samples_leaf'],\n",
    "    learning_rate=optimized_params['learning_rate'],\n",
    "    random_state=42  # You can set the random seed for reproducibility\n",
    ")\n"
   ]
  },
  {
   "cell_type": "code",
   "execution_count": 61,
   "id": "134477fe-a116-4223-aa3e-76569fca7809",
   "metadata": {
    "tags": []
   },
   "outputs": [],
   "source": [
    "model.fit(X_train, Y_train)\n",
    "\n",
    "# Make predictions\n",
    "y_pred = model.predict(X_val)"
   ]
  },
  {
   "cell_type": "code",
   "execution_count": 62,
   "id": "15852230-e863-41a4-9ded-4ed0494b0007",
   "metadata": {
    "tags": []
   },
   "outputs": [
    {
     "data": {
      "text/plain": [
       "array([1.58007766, 1.57776043, 1.57776043, ..., 1.58007766, 1.57803086,\n",
       "       1.57803086])"
      ]
     },
     "execution_count": 62,
     "metadata": {},
     "output_type": "execute_result"
    }
   ],
   "source": [
    "y_pred"
   ]
  },
  {
   "cell_type": "code",
   "execution_count": 63,
   "id": "9bd51a00-d760-409d-af29-120ea600aada",
   "metadata": {
    "tags": []
   },
   "outputs": [
    {
     "data": {
      "text/plain": [
       "('SMAPE', 8.231142277443645, False)"
      ]
     },
     "execution_count": 63,
     "metadata": {},
     "output_type": "execute_result"
    }
   ],
   "source": [
    "hist_gradient_boosting_smape(y_pred,Y_val)"
   ]
  },
  {
   "cell_type": "markdown",
   "id": "9b1f53d1-7705-4d16-9857-b3c6be4b7a1f",
   "metadata": {},
   "source": [
    "## Creating PKL File"
   ]
  },
  {
   "cell_type": "code",
   "execution_count": 66,
   "id": "ebcf3f40-c520-4069-b5e4-40f591e1a1a2",
   "metadata": {
    "tags": []
   },
   "outputs": [
    {
     "data": {
      "text/plain": [
       "['hgbr.pkl']"
      ]
     },
     "execution_count": 66,
     "metadata": {},
     "output_type": "execute_result"
    }
   ],
   "source": [
    "joblib.dump(model, \"hgbr.pkl\")"
   ]
  },
  {
   "cell_type": "code",
   "execution_count": null,
   "id": "49df1cc5-4c1b-4cf6-9459-a0d93177008d",
   "metadata": {},
   "outputs": [],
   "source": []
  }
 ],
 "metadata": {
  "kernelspec": {
   "display_name": "Python 3 (ipykernel)",
   "language": "python",
   "name": "python3"
  },
  "language_info": {
   "codemirror_mode": {
    "name": "ipython",
    "version": 3
   },
   "file_extension": ".py",
   "mimetype": "text/x-python",
   "name": "python",
   "nbconvert_exporter": "python",
   "pygments_lexer": "ipython3",
   "version": "3.11.3"
  }
 },
 "nbformat": 4,
 "nbformat_minor": 5
}
