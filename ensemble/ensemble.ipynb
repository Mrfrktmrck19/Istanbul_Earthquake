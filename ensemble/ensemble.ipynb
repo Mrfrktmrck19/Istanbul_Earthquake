{
 "cells": [
  {
   "cell_type": "markdown",
   "id": "3e3ac716-776e-489b-8714-c8a88a33d41e",
   "metadata": {},
   "source": [
    "# Creating Ensemble Model"
   ]
  },
  {
   "cell_type": "markdown",
   "id": "69aa8b43-de9e-49c1-b489-ac6b61c13995",
   "metadata": {},
   "source": [
    "VotingRegressor pretrained modelleri desteklemediği için terkardan kendimiz eğitmek zorundayız."
   ]
  },
  {
   "cell_type": "markdown",
   "id": "8716869c-6bb1-4dd0-8f95-f6ab2f7321c6",
   "metadata": {
    "jp-MarkdownHeadingCollapsed": true,
    "tags": []
   },
   "source": [
    "## Setup Enviroment"
   ]
  },
  {
   "cell_type": "code",
   "execution_count": 1,
   "id": "64360f95-4de4-4903-8c57-712386d9bff6",
   "metadata": {
    "tags": []
   },
   "outputs": [],
   "source": [
    "import joblib\n",
    "import re\n",
    "import optuna\n",
    "import numpy as np\n",
    "import pandas as pd\n",
    "import matplotlib.pyplot as plt\n",
    "import seaborn as sns\n",
    "import warnings\n",
    "from lightgbm import LGBMRegressor\n",
    "import lightgbm as lgb\n",
    "from sklearn.model_selection import cross_validate\n",
    "from sklearn.preprocessing import StandardScaler\n",
    "from sklearn.ensemble import RandomForestRegressor, GradientBoostingRegressor\n",
    "from sklearn.exceptions import ConvergenceWarning\n",
    "from sklearn.preprocessing import LabelEncoder\n",
    "from sklearn.metrics import mean_squared_error\n",
    "from sklearn.model_selection import train_test_split, cross_val_score,GridSearchCV,cross_validate"
   ]
  },
  {
   "cell_type": "code",
   "execution_count": 50,
   "id": "59284f78-ab4d-439e-9153-b082d455f3e6",
   "metadata": {
    "tags": []
   },
   "outputs": [],
   "source": [
    "from sklearn.ensemble import VotingRegressor\n",
    "from sklearn.ensemble import HistGradientBoostingRegressor\n",
    "from sklearn.metrics import make_scorer"
   ]
  },
  {
   "cell_type": "code",
   "execution_count": 3,
   "id": "657506c9-46d7-4df9-a3cc-2a115bfa0556",
   "metadata": {
    "tags": []
   },
   "outputs": [],
   "source": [
    "hgbr_model = joblib.load(\"hgbr.pkl\")"
   ]
  },
  {
   "cell_type": "code",
   "execution_count": 4,
   "id": "3db9d796-3836-481b-805b-09541249554d",
   "metadata": {
    "tags": []
   },
   "outputs": [],
   "source": [
    "lgbmr_model = joblib.load(\"lgbm_model.pkl\")"
   ]
  },
  {
   "cell_type": "markdown",
   "id": "026a22ae-cc02-4382-98f2-70e2a9f7952c",
   "metadata": {
    "tags": []
   },
   "source": [
    "## Dataset Process..."
   ]
  },
  {
   "cell_type": "markdown",
   "id": "bce07c22-f3b1-42d7-a554-8083719cbe5c",
   "metadata": {
    "jp-MarkdownHeadingCollapsed": true,
    "tags": []
   },
   "source": [
    "### Loading Datasets"
   ]
  },
  {
   "cell_type": "code",
   "execution_count": 5,
   "id": "39ad1e89-9696-4408-b607-b2ad79264464",
   "metadata": {
    "tags": []
   },
   "outputs": [],
   "source": [
    "df2_ = pd.read_excel(\"kaggle_test2.xlsx\",index_col=\"Unnamed: 0\")\n",
    "df_ = pd.read_csv(\"dataset.csv\", encoding=\"unicode-escape\", sep=\",\",on_bad_lines=\"skip\",index_col=\"Unnamed: 0\")"
   ]
  },
  {
   "cell_type": "code",
   "execution_count": 6,
   "id": "9b645f52-0444-44d7-8980-b6636c95d25b",
   "metadata": {
    "tags": []
   },
   "outputs": [],
   "source": [
    "df = df_.copy()"
   ]
  },
  {
   "cell_type": "markdown",
   "id": "2bc0f628-544f-4f35-ac7a-5187a853ee06",
   "metadata": {
    "jp-MarkdownHeadingCollapsed": true,
    "tags": []
   },
   "source": [
    "### Preprocess"
   ]
  },
  {
   "cell_type": "code",
   "execution_count": 7,
   "id": "f7d8ea10-d562-4f7f-9679-9c7983eabf02",
   "metadata": {
    "tags": []
   },
   "outputs": [],
   "source": [
    "# Değişken isimlerini küçültüyorum\n",
    "df.columns = [col.lower() for col in df.columns]\n",
    "\n",
    "# Bağımlı değişkenin türevlerini overfit olmaması için çıkartıyorum.\n",
    "df.drop([\"md\",\"ml\",\"mw\",\"ms\",\"mb\"],axis=1,inplace=True)\n",
    "\n",
    "# Date değişkeninin oluşturulması\n",
    "df[\"olus tarihi\"] = df[\"olus tarihi\"].astype(str)\n",
    "df[\"olus zamani\"] = df[\"olus zamani\"].astype(str)\n",
    "# tip değişkeni 2 sınıf ve SM sınıfından sadece 2 gözlem var. O yüzden dropluyorum bu kolonu.\n",
    "df[\"depremin_olus_zamani\"] = df[\"olus tarihi\"] + \" \" + df[\"olus zamani\"]\n",
    "df.drop([\"olus tarihi\", \"olus zamani\", \"tip\"], axis = 1, inplace = True)\n",
    "df[\"depremin_olus_zamani\"] = pd.to_datetime(df[\"depremin_olus_zamani\"])\n",
    "\n",
    "# Çoğullanmış ID'leri düşürüyorum.\n",
    "df.drop_duplicates(subset=[\"deprem kodu\"],inplace = True)\n",
    "\n",
    "# Türkçe karakterleri İngilizce karakterlere dönüştüren bir çeviri sözlüğü oluşturalım\n",
    "turkce_ingilizce_ceviri = {\n",
    "    'ç': 'c',\n",
    "    'ğ': 'g',\n",
    "    'ı': 'i',\n",
    "    'ö': 'o',\n",
    "    'ş': 's',\n",
    "    'ü': 'u',\n",
    "    'Ç': 'C',\n",
    "    'Ğ': 'G',\n",
    "    'İ': 'I',\n",
    "    'Ö': 'O',\n",
    "    'Ş': 'S',\n",
    "    'Ü': 'U'\n",
    "}\n",
    "df[\"yer\"] = df[\"yer\"].apply(lambda yer: yer.translate(str.maketrans(turkce_ingilizce_ceviri)))\n",
    "\n",
    "# Şehir isimlerini çekmek için düzenli ifade kullanalım\n",
    "\n",
    "def extract_cities(dataframe,column):\n",
    "  sadece_sehirler = []\n",
    "  for yer in dataframe[column]:\n",
    "      eslesme = re.search(r'\\((.*?)\\)', yer)  # Parantez içindekileri kontrol et\n",
    "      if eslesme:\n",
    "          sadece_sehirler.append(eslesme.group(1))  # Parantez içindeki değeri ekle\n",
    "      else:\n",
    "          sadece_sehirler.append(yer)  # Parantez içinde değer yoksa doğrudan ekle\n",
    "  return sadece_sehirler\n",
    "\n",
    "df[\"temizlenmis_yer\"] = extract_cities(df,\"yer\")\n",
    "\n",
    "# Köşeli parantezleri atıyoruz. Böylelikle o şehir/alandaki depremlere odaklanmış oluyoruz.\n",
    "df[\"temizlenmis_yer\"] = df[\"temizlenmis_yer\"].apply(lambda yer: re.sub(r'\\[.*?\\]', '', yer))\n",
    "\n",
    "# Yerin neresi olduğu belli olmadığı için çıkartıyorum.\n",
    "df = df[~(df[\"temizlenmis_yer\"] == \"#NAME?\")]"
   ]
  },
  {
   "cell_type": "code",
   "execution_count": 8,
   "id": "2431068a-4922-41bf-8b5a-cebb011ea252",
   "metadata": {
    "tags": []
   },
   "outputs": [
    {
     "data": {
      "text/plain": [
       "368"
      ]
     },
     "execution_count": 8,
     "metadata": {},
     "output_type": "execute_result"
    }
   ],
   "source": [
    "df.temizlenmis_yer.nunique()"
   ]
  },
  {
   "cell_type": "markdown",
   "id": "cb31dca1-f26e-40ba-8047-5a1b0cf7bb06",
   "metadata": {
    "jp-MarkdownHeadingCollapsed": true,
    "tags": []
   },
   "source": [
    "### Joining Two Tables"
   ]
  },
  {
   "cell_type": "code",
   "execution_count": 9,
   "id": "7eb13c4a-9fb7-467c-a53b-5b3e92feb7e7",
   "metadata": {
    "tags": []
   },
   "outputs": [
    {
     "data": {
      "text/html": [
       "<div>\n",
       "<style scoped>\n",
       "    .dataframe tbody tr th:only-of-type {\n",
       "        vertical-align: middle;\n",
       "    }\n",
       "\n",
       "    .dataframe tbody tr th {\n",
       "        vertical-align: top;\n",
       "    }\n",
       "\n",
       "    .dataframe thead th {\n",
       "        text-align: right;\n",
       "    }\n",
       "</style>\n",
       "<table border=\"1\" class=\"dataframe\">\n",
       "  <thead>\n",
       "    <tr style=\"text-align: right;\">\n",
       "      <th></th>\n",
       "      <th>no</th>\n",
       "      <th>deprem kodu</th>\n",
       "      <th>enlem</th>\n",
       "      <th>boylam</th>\n",
       "      <th>derinlik</th>\n",
       "      <th>xm</th>\n",
       "      <th>yer</th>\n",
       "      <th>depremin_olus_zamani</th>\n",
       "      <th>temizlenmis_yer</th>\n",
       "    </tr>\n",
       "  </thead>\n",
       "  <tbody>\n",
       "    <tr>\n",
       "      <th>0</th>\n",
       "      <td>1.0</td>\n",
       "      <td>2.023043e+13</td>\n",
       "      <td>38.3392</td>\n",
       "      <td>37.7633</td>\n",
       "      <td>8.7</td>\n",
       "      <td>4.3</td>\n",
       "      <td>KEPEZ-AKCADAG (MALATYA) [East 1.7 km]</td>\n",
       "      <td>2023-04-30 13:01:27.690</td>\n",
       "      <td>MALATYA</td>\n",
       "    </tr>\n",
       "    <tr>\n",
       "      <th>1</th>\n",
       "      <td>2.0</td>\n",
       "      <td>2.023043e+13</td>\n",
       "      <td>40.8077</td>\n",
       "      <td>31.0708</td>\n",
       "      <td>3.7</td>\n",
       "      <td>3.5</td>\n",
       "      <td>PASAKONAGI- (DUZCE) [South West  0.9 km]</td>\n",
       "      <td>2023-04-30 04:02:53.490</td>\n",
       "      <td>DUZCE</td>\n",
       "    </tr>\n",
       "    <tr>\n",
       "      <th>2</th>\n",
       "      <td>3.0</td>\n",
       "      <td>2.023043e+13</td>\n",
       "      <td>35.6422</td>\n",
       "      <td>34.0252</td>\n",
       "      <td>22.4</td>\n",
       "      <td>3.5</td>\n",
       "      <td>AKDENIZ</td>\n",
       "      <td>2023-04-30 02:51:22.150</td>\n",
       "      <td>AKDENIZ</td>\n",
       "    </tr>\n",
       "    <tr>\n",
       "      <th>3</th>\n",
       "      <td>4.0</td>\n",
       "      <td>2.023043e+13</td>\n",
       "      <td>37.8623</td>\n",
       "      <td>36.2185</td>\n",
       "      <td>5.0</td>\n",
       "      <td>4.0</td>\n",
       "      <td>KARAKUYU-SAIMBEYLI (ADANA) [East 1.4 km]</td>\n",
       "      <td>2023-04-29 19:48:32.870</td>\n",
       "      <td>ADANA</td>\n",
       "    </tr>\n",
       "    <tr>\n",
       "      <th>4</th>\n",
       "      <td>5.0</td>\n",
       "      <td>2.023043e+13</td>\n",
       "      <td>38.0220</td>\n",
       "      <td>36.4457</td>\n",
       "      <td>5.0</td>\n",
       "      <td>3.7</td>\n",
       "      <td>YIRICEK-GOKSUN (KAHRAMANMARAS) [North West  2....</td>\n",
       "      <td>2023-04-29 17:58:29.200</td>\n",
       "      <td>KAHRAMANMARAS</td>\n",
       "    </tr>\n",
       "  </tbody>\n",
       "</table>\n",
       "</div>"
      ],
      "text/plain": [
       "    no   deprem kodu    enlem   boylam  derinlik   xm  \\\n",
       "0  1.0  2.023043e+13  38.3392  37.7633       8.7  4.3   \n",
       "1  2.0  2.023043e+13  40.8077  31.0708       3.7  3.5   \n",
       "2  3.0  2.023043e+13  35.6422  34.0252      22.4  3.5   \n",
       "3  4.0  2.023043e+13  37.8623  36.2185       5.0  4.0   \n",
       "4  5.0  2.023043e+13  38.0220  36.4457       5.0  3.7   \n",
       "\n",
       "                                                 yer    depremin_olus_zamani  \\\n",
       "0              KEPEZ-AKCADAG (MALATYA) [East 1.7 km] 2023-04-30 13:01:27.690   \n",
       "1           PASAKONAGI- (DUZCE) [South West  0.9 km] 2023-04-30 04:02:53.490   \n",
       "2                                            AKDENIZ 2023-04-30 02:51:22.150   \n",
       "3           KARAKUYU-SAIMBEYLI (ADANA) [East 1.4 km] 2023-04-29 19:48:32.870   \n",
       "4  YIRICEK-GOKSUN (KAHRAMANMARAS) [North West  2.... 2023-04-29 17:58:29.200   \n",
       "\n",
       "  temizlenmis_yer  \n",
       "0         MALATYA  \n",
       "1           DUZCE  \n",
       "2         AKDENIZ  \n",
       "3           ADANA  \n",
       "4   KAHRAMANMARAS  "
      ]
     },
     "execution_count": 9,
     "metadata": {},
     "output_type": "execute_result"
    }
   ],
   "source": [
    "df = pd.concat([df,df2_],axis=0,ignore_index=True)\n",
    "df.head()"
   ]
  },
  {
   "cell_type": "code",
   "execution_count": 10,
   "id": "8e86fe9f-2e5f-47f6-aac2-f68991b84417",
   "metadata": {
    "tags": []
   },
   "outputs": [
    {
     "data": {
      "text/plain": [
       "368"
      ]
     },
     "execution_count": 10,
     "metadata": {},
     "output_type": "execute_result"
    }
   ],
   "source": [
    "df.temizlenmis_yer.nunique()"
   ]
  },
  {
   "cell_type": "markdown",
   "id": "ec4dfcf8-8236-4a90-838d-12d5b42182b7",
   "metadata": {
    "tags": []
   },
   "source": [
    "## Feature Engineering"
   ]
  },
  {
   "cell_type": "markdown",
   "id": "13aea1d7-de9c-44fb-bbdf-fd1e44d160ac",
   "metadata": {
    "jp-MarkdownHeadingCollapsed": true,
    "tags": []
   },
   "source": [
    "### Creating DateTime"
   ]
  },
  {
   "cell_type": "code",
   "execution_count": 11,
   "id": "a9f93c85-32de-4c3c-907e-64977cd6af1e",
   "metadata": {
    "tags": []
   },
   "outputs": [
    {
     "name": "stderr",
     "output_type": "stream",
     "text": [
      "C:\\Users\\oftomurcuk\\AppData\\Local\\Temp\\ipykernel_3980\\4216593417.py:9: FutureWarning: Series.dt.weekofyear and Series.dt.week have been deprecated. Please use Series.dt.isocalendar().week instead.\n",
      "  dataframe['yıl_hafta'] = dataframe[\"depremin_olus_zamani\"].dt.weekofyear\n"
     ]
    }
   ],
   "source": [
    "def creating_datetime_feature(dataframe):\n",
    "    dataframe[\"ay\"] = dataframe[\"depremin_olus_zamani\"].dt.month\n",
    "    dataframe[\"yil\"] = dataframe[\"depremin_olus_zamani\"].dt.year\n",
    "    dataframe[\"ay_gun\"] = dataframe[\"depremin_olus_zamani\"].dt.day\n",
    "    dataframe[\"hafta_gun\"] = dataframe[\"depremin_olus_zamani\"].dt.dayofweek\n",
    "    dataframe[\"saat\"] =  dataframe[\"depremin_olus_zamani\"].dt.hour\n",
    "    dataframe[\"aksam\"] = ((dataframe['saat'] >= 18) & (dataframe['saat'] <= 23)) | ((dataframe['saat'] >= 0) & (dataframe['saat'] <= 4))\n",
    "    dataframe['yıl_gün'] = dataframe[\"depremin_olus_zamani\"].dt.dayofyear\n",
    "    dataframe['yıl_hafta'] = dataframe[\"depremin_olus_zamani\"].dt.weekofyear\n",
    "    dataframe[\"ay_basi\"] = dataframe[\"depremin_olus_zamani\"].dt.is_month_start.astype(int)\n",
    "    dataframe[\"ay_sonu\"] = dataframe[\"depremin_olus_zamani\"].dt.is_month_end.astype(int)\n",
    "    dataframe[\"çeyreklik\"] = dataframe[\"depremin_olus_zamani\"].dt.quarter\n",
    "    return dataframe\n",
    "df = creating_datetime_feature(df)"
   ]
  },
  {
   "cell_type": "code",
   "execution_count": 12,
   "id": "c4e494aa-3503-490d-a3d4-9bd3ffd04a66",
   "metadata": {
    "tags": []
   },
   "outputs": [],
   "source": [
    "# Akşam değişkeni Integer tipine dönüştürülüyor. \n",
    "df[\"aksam\"] = df['aksam'].astype(int)"
   ]
  },
  {
   "cell_type": "markdown",
   "id": "84d5bd9e-3926-475d-982d-048b8d9cc2dd",
   "metadata": {
    "tags": []
   },
   "source": [
    "### Lag Feature"
   ]
  },
  {
   "cell_type": "code",
   "execution_count": 13,
   "id": "ff4ca3c9-52c2-4c51-abd3-f4fad9c12426",
   "metadata": {
    "tags": []
   },
   "outputs": [],
   "source": [
    "# random noise. Bağımlı değişkenden türeteceğimiz featurelarda, overfitin önüne geçmek için gürültü oluşturacağız.\n",
    "def random_noise(dataframe):\n",
    "    return np.random.normal(scale=1.6, size=(len(dataframe)))"
   ]
  },
  {
   "cell_type": "code",
   "execution_count": 14,
   "id": "98c107a0-933b-497a-866f-891f101002b9",
   "metadata": {
    "tags": []
   },
   "outputs": [],
   "source": [
    "# Zamana göre sıralıyoruz Zaman Serilerini.\n",
    "df = df.sort_values(by = [\"depremin_olus_zamani\",\"temizlenmis_yer\"],\n",
    "               axis = 0)"
   ]
  },
  {
   "cell_type": "code",
   "execution_count": 15,
   "id": "2a165958-05c1-4028-b490-0f07e424ec99",
   "metadata": {
    "tags": []
   },
   "outputs": [],
   "source": [
    "# lag features. Shift ile gecikmeyi sağlıyoruz. \n",
    "# Random noise ile gürültü ekliyoruz. \n",
    "# Transform ile de zaten dönüştürme yapıyoruz.\n",
    "def lag_features(dataframe, lags):\n",
    "    for lag in lags:\n",
    "        dataframe['deprem_lag_' + str(lag)] = dataframe.groupby([\"temizlenmis_yer\"])['xm'].transform(\n",
    "            lambda x: x.shift(lag)) + random_noise(dataframe)\n",
    "    return dataframe"
   ]
  },
  {
   "cell_type": "code",
   "execution_count": 16,
   "id": "193e946d-c617-4af4-b861-6454db3468e9",
   "metadata": {
    "tags": []
   },
   "outputs": [],
   "source": [
    "# çeşitli shiftler/lagler/gecikmeler girelim. Gecikme  o zamanki değer demekti unutma. 3 ay ve katları olacak şekilde bakıyorum! Quarter aldım.\n",
    "# Gelecekten Not: Şuanlık veri setinde gün gün gözlem var. Bunları çeyreklik yapınca SMAPE değerimiz arttı!\n",
    "df = lag_features(df, [1, 3, 7, 30, 60, 90, 180, 360])"
   ]
  },
  {
   "cell_type": "code",
   "execution_count": 17,
   "id": "a58a9477-a7fd-4058-a528-1ff74665219f",
   "metadata": {
    "tags": []
   },
   "outputs": [
    {
     "data": {
      "text/plain": [
       "no                       2208\n",
       "deprem kodu              2208\n",
       "enlem                       0\n",
       "boylam                      0\n",
       "derinlik                    0\n",
       "xm                       2208\n",
       "yer                      2208\n",
       "depremin_olus_zamani        0\n",
       "temizlenmis_yer             0\n",
       "ay                          0\n",
       "yil                         0\n",
       "ay_gun                      0\n",
       "hafta_gun                   0\n",
       "saat                        0\n",
       "aksam                       0\n",
       "yıl_gün                     0\n",
       "yıl_hafta                   0\n",
       "ay_basi                     0\n",
       "ay_sonu                     0\n",
       "çeyreklik                   0\n",
       "deprem_lag_1             2208\n",
       "deprem_lag_3             2208\n",
       "deprem_lag_7             2576\n",
       "deprem_lag_30            4999\n",
       "deprem_lag_60            6880\n",
       "deprem_lag_90            8363\n",
       "deprem_lag_180          11382\n",
       "deprem_lag_360          14531\n",
       "dtype: int64"
      ]
     },
     "execution_count": 17,
     "metadata": {},
     "output_type": "execute_result"
    }
   ],
   "source": [
    "df.isnull().sum()"
   ]
  },
  {
   "cell_type": "markdown",
   "id": "b4f9a7ed-cf50-494e-bcb0-27800ceb710b",
   "metadata": {
    "jp-MarkdownHeadingCollapsed": true,
    "tags": []
   },
   "source": [
    "### Rolling Mean Features"
   ]
  },
  {
   "cell_type": "code",
   "execution_count": 18,
   "id": "9b77b4dc-7f3e-42b3-a614-968aa6cff042",
   "metadata": {
    "tags": []
   },
   "outputs": [],
   "source": [
    "# Rolling Mean Feature\n",
    "# Window parametresi, adım sayısını belirtmek için kullanılıyor.\n",
    "def roll_mean_features(dataframe, windows):\n",
    "    for window in windows:\n",
    "        dataframe['deprem_roll_mean_' + str(window)] = dataframe.groupby([\"temizlenmis_yer\"])['xm']. \\\n",
    "                                                          transform(\n",
    "            lambda x: x.shift(1).rolling(window=window, min_periods=10, win_type=\"triang\").mean()) + random_noise(\n",
    "            dataframe)\n",
    "    return dataframe"
   ]
  },
  {
   "cell_type": "code",
   "execution_count": 19,
   "id": "2ffc5cf9-8b0d-4589-8140-92c919cc5d16",
   "metadata": {
    "tags": []
   },
   "outputs": [],
   "source": [
    "# Min Periodu 10 yaptığımız için min window'a da 10 girebiliyoruz.\n",
    "df = roll_mean_features(df, [10, 30, 60, 90, 180, 360])"
   ]
  },
  {
   "cell_type": "code",
   "execution_count": 20,
   "id": "30ae7a3b-7fdd-4703-8243-6aec2af87569",
   "metadata": {
    "tags": []
   },
   "outputs": [
    {
     "data": {
      "text/plain": [
       "no                       2208\n",
       "deprem kodu              2208\n",
       "enlem                       0\n",
       "boylam                      0\n",
       "derinlik                    0\n",
       "xm                       2208\n",
       "yer                      2208\n",
       "depremin_olus_zamani        0\n",
       "temizlenmis_yer             0\n",
       "ay                          0\n",
       "yil                         0\n",
       "ay_gun                      0\n",
       "hafta_gun                   0\n",
       "saat                        0\n",
       "aksam                       0\n",
       "yıl_gün                     0\n",
       "yıl_hafta                   0\n",
       "ay_basi                     0\n",
       "ay_sonu                     0\n",
       "çeyreklik                   0\n",
       "deprem_lag_1             2208\n",
       "deprem_lag_3             2208\n",
       "deprem_lag_7             2576\n",
       "deprem_lag_30            4999\n",
       "deprem_lag_60            6880\n",
       "deprem_lag_90            8363\n",
       "deprem_lag_180          11382\n",
       "deprem_lag_360          14531\n",
       "deprem_roll_mean_10      3741\n",
       "deprem_roll_mean_30      3226\n",
       "deprem_roll_mean_60      3226\n",
       "deprem_roll_mean_90      3226\n",
       "deprem_roll_mean_180     3226\n",
       "deprem_roll_mean_360     3226\n",
       "dtype: int64"
      ]
     },
     "execution_count": 20,
     "metadata": {},
     "output_type": "execute_result"
    }
   ],
   "source": [
    "df.isnull().sum()"
   ]
  },
  {
   "cell_type": "markdown",
   "id": "aeb9fd02-2113-4430-8e75-bed3c7aeb8ed",
   "metadata": {
    "jp-MarkdownHeadingCollapsed": true,
    "tags": []
   },
   "source": [
    "### Exponential Weighted Mean Features"
   ]
  },
  {
   "cell_type": "code",
   "execution_count": 21,
   "id": "a6e6c174-9aed-4555-a887-51c00933188f",
   "metadata": {
    "tags": []
   },
   "outputs": [],
   "source": [
    "# Shift ile gecikme veriyor\n",
    "# ewm ile üs alıyor,\n",
    "# en sonrada ortalamasını alıp transform ile dönüştürüyoruz.\n",
    "def ewm_features(dataframe, alphas, lags):\n",
    "    for alpha in alphas:\n",
    "        for lag in lags:\n",
    "            dataframe['deprem_ewm_alpha_' + str(alpha).replace(\".\", \"\") + \"_lag_\" + str(lag)] = \\\n",
    "                dataframe.groupby([\"temizlenmis_yer\"])['xm'].transform(lambda x: x.shift(lag).ewm(alpha=alpha).mean())\n",
    "    return dataframe"
   ]
  },
  {
   "cell_type": "code",
   "execution_count": 22,
   "id": "b4b0a0a5-1962-4005-8112-4249d3cf7ffa",
   "metadata": {
    "tags": []
   },
   "outputs": [],
   "source": [
    "alphas = [0.95, 0.9, 0.8, 0.7, 0.5]\n",
    "lags = [1, 3, 7, 30, 60, 90, 180, 360]"
   ]
  },
  {
   "cell_type": "code",
   "execution_count": 23,
   "id": "95d54c8c-619a-42c4-8ad4-40d59ca14233",
   "metadata": {
    "tags": []
   },
   "outputs": [],
   "source": [
    "df = ewm_features(df, alphas, lags)"
   ]
  },
  {
   "cell_type": "code",
   "execution_count": 24,
   "id": "52f464e6-888a-4ca9-b17f-a44577f54c9a",
   "metadata": {
    "tags": []
   },
   "outputs": [
    {
     "data": {
      "text/plain": [
       "no                              2208\n",
       "deprem kodu                     2208\n",
       "enlem                              0\n",
       "boylam                             0\n",
       "derinlik                           0\n",
       "                               ...  \n",
       "deprem_ewm_alpha_05_lag_30      4999\n",
       "deprem_ewm_alpha_05_lag_60      6880\n",
       "deprem_ewm_alpha_05_lag_90      8363\n",
       "deprem_ewm_alpha_05_lag_180    11382\n",
       "deprem_ewm_alpha_05_lag_360    14531\n",
       "Length: 74, dtype: int64"
      ]
     },
     "execution_count": 24,
     "metadata": {},
     "output_type": "execute_result"
    }
   ],
   "source": [
    "df.isnull().sum()"
   ]
  },
  {
   "cell_type": "markdown",
   "id": "89db41c5-d162-4783-a1bc-5fc34266dcc5",
   "metadata": {
    "jp-MarkdownHeadingCollapsed": true,
    "tags": []
   },
   "source": [
    "### One Hot Encoding"
   ]
  },
  {
   "cell_type": "code",
   "execution_count": 25,
   "id": "5785e823-2cce-4993-8482-6e2c8a9a3623",
   "metadata": {
    "tags": []
   },
   "outputs": [],
   "source": [
    "df = pd.get_dummies(df, columns=['temizlenmis_yer'])"
   ]
  },
  {
   "cell_type": "code",
   "execution_count": 26,
   "id": "317053e0-e4af-4c15-8c2d-ae70b1c08eee",
   "metadata": {
    "tags": []
   },
   "outputs": [
    {
     "data": {
      "text/plain": [
       "(22111, 441)"
      ]
     },
     "execution_count": 26,
     "metadata": {},
     "output_type": "execute_result"
    }
   ],
   "source": [
    "df.shape"
   ]
  },
  {
   "cell_type": "markdown",
   "id": "84431f4c-761b-4403-a38d-b8016f51c537",
   "metadata": {
    "jp-MarkdownHeadingCollapsed": true,
    "tags": []
   },
   "source": [
    "### Log1p Dönüşümü"
   ]
  },
  {
   "cell_type": "code",
   "execution_count": 27,
   "id": "b2662d12-69a8-48b4-a208-b5d6dc5bb99e",
   "metadata": {
    "tags": []
   },
   "outputs": [],
   "source": [
    "df['xm'] = np.log1p(df[\"xm\"].values)"
   ]
  },
  {
   "cell_type": "markdown",
   "id": "08965088-f027-4492-9733-89ee4eaa367d",
   "metadata": {
    "jp-MarkdownHeadingCollapsed": true,
    "tags": []
   },
   "source": [
    "### Time_based Feature and Validation Sets"
   ]
  },
  {
   "cell_type": "code",
   "execution_count": 28,
   "id": "cf28bbfe-3bae-49ca-a14e-c5815a9bcab0",
   "metadata": {
    "tags": []
   },
   "outputs": [],
   "source": [
    "# 2023 3 ayı validasyon, öncekilerde eğitim\n",
    "\n",
    "# 2023'nin başına kadar (2022'nın sonuna kadar) train seti.\n",
    "train = df.loc[(df[\"depremin_olus_zamani\"] < \"2023-01-01\"), :]\n",
    "\n",
    "# 2023'nin ilk 3'ayı validasyon seti.\n",
    "val = df.loc[(df[\"depremin_olus_zamani\"] >= \"2023-01-01\") & (df[\"depremin_olus_zamani\"] < \"2023-04-01\"), :]"
   ]
  },
  {
   "cell_type": "code",
   "execution_count": 29,
   "id": "eca13bd3-ab8f-4fe4-85c0-b21eb08ccf23",
   "metadata": {
    "tags": []
   },
   "outputs": [],
   "source": [
    "# train edilirken işimize yaramayacak olan kolonları çıkartalım. Buraya daha sonra enlem ve boylam eklenecek\n",
    "cols = [col for col in df.columns if col not in ['deprem kodu',\"no\",\"yer\",\"depremin_olus_zamani\",\"temizlenmis_yer\",\"xm\"]]"
   ]
  },
  {
   "cell_type": "code",
   "execution_count": 30,
   "id": "cc8aa240-f443-417a-8dc8-ef90a5aca239",
   "metadata": {
    "tags": []
   },
   "outputs": [],
   "source": [
    "# train => X_train, Y_train ....... val => X_val, Y_val\n",
    "Y_train = train['xm']\n",
    "X_train = train[cols]\n",
    "\n",
    "Y_val = val['xm']\n",
    "X_val = val[cols]"
   ]
  },
  {
   "cell_type": "code",
   "execution_count": 31,
   "id": "8523b889-5b24-49bf-81f2-9ef8f8edc1ff",
   "metadata": {
    "tags": []
   },
   "outputs": [
    {
     "data": {
      "text/plain": [
       "((18424,), (18424, 436), (1383,), (1383, 436))"
      ]
     },
     "execution_count": 31,
     "metadata": {},
     "output_type": "execute_result"
    }
   ],
   "source": [
    "Y_train.shape, X_train.shape, Y_val.shape, X_val.shape"
   ]
  },
  {
   "cell_type": "markdown",
   "id": "53625d70-63fb-4376-a752-429ecb6ac830",
   "metadata": {
    "jp-MarkdownHeadingCollapsed": true,
    "tags": []
   },
   "source": [
    "## Model Developing"
   ]
  },
  {
   "cell_type": "markdown",
   "id": "adf20082-2b0b-415e-8e67-d7bbe0a17892",
   "metadata": {},
   "source": [
    "**Burada tekrardan Optuna kullanmıyorum.** Çünkü daha önce kullandım ve sonuçları test ettim. O yüzden eski parametreleri tekrardan kullanarak modeli eğitiyorum."
   ]
  },
  {
   "cell_type": "markdown",
   "id": "896db9f8-235a-4f02-bf5f-76a03076c9e1",
   "metadata": {
    "jp-MarkdownHeadingCollapsed": true,
    "tags": []
   },
   "source": [
    "### HistGradientBoositngRegressor"
   ]
  },
  {
   "cell_type": "code",
   "execution_count": 32,
   "id": "ead90357-9e1a-4a0f-b5b0-af4c766276b9",
   "metadata": {
    "tags": []
   },
   "outputs": [],
   "source": [
    "optimized_params = {\n",
    "    'max_iter': 774,\n",
    "    'max_depth': 2,\n",
    "    'min_samples_leaf': 18,\n",
    "    'learning_rate': 0.0018862398822892638\n",
    "}"
   ]
  },
  {
   "cell_type": "code",
   "execution_count": 33,
   "id": "6d485f79-225a-4f9c-a8fd-1901066875b9",
   "metadata": {
    "tags": []
   },
   "outputs": [],
   "source": [
    "hgbr_model = HistGradientBoostingRegressor(\n",
    "    max_iter=optimized_params['max_iter'],\n",
    "    max_depth=optimized_params['max_depth'],\n",
    "    min_samples_leaf=optimized_params['min_samples_leaf'],\n",
    "    learning_rate=optimized_params['learning_rate'],\n",
    "    random_state=42  # You can set the random seed for reproducibility\n",
    ")\n"
   ]
  },
  {
   "cell_type": "code",
   "execution_count": 35,
   "id": "b6e651d7-b69b-4a02-a4ac-c9ff2ef9d1b9",
   "metadata": {
    "tags": []
   },
   "outputs": [],
   "source": [
    "hgbr_model.fit(X_train, Y_train)\n",
    "\n",
    "# Make predictions\n",
    "y_pred = hgbr_model.predict(X_val)"
   ]
  },
  {
   "cell_type": "code",
   "execution_count": 36,
   "id": "a8cb58c6-b8ad-4bfb-865b-56e5b8e74577",
   "metadata": {
    "tags": []
   },
   "outputs": [],
   "source": [
    "def smape(preds, target):\n",
    "    n = len(preds)\n",
    "    masked_arr = ~((preds == 0) & (target == 0))\n",
    "    preds, target = preds[masked_arr], target[masked_arr]\n",
    "    num = np.abs(preds - target)\n",
    "    denom = np.abs(preds) + np.abs(target)\n",
    "    smape_val = (200 * np.sum(num / denom)) / n\n",
    "    return smape_val\n",
    "\n",
    "def hist_gradient_boosting_smape(preds, train_data):\n",
    "    labels = train_data\n",
    "    smape_val = smape(np.expm1(preds), np.expm1(labels))\n",
    "    return 'SMAPE', smape_val, False"
   ]
  },
  {
   "cell_type": "code",
   "execution_count": 37,
   "id": "1989b254-d821-43ae-a74a-c9881263a6cd",
   "metadata": {
    "tags": []
   },
   "outputs": [
    {
     "data": {
      "text/plain": [
       "('SMAPE', 8.231142277443645, False)"
      ]
     },
     "execution_count": 37,
     "metadata": {},
     "output_type": "execute_result"
    }
   ],
   "source": [
    "hist_gradient_boosting_smape(y_pred, Y_val)"
   ]
  },
  {
   "cell_type": "markdown",
   "id": "e6aeaf0e-d93d-40ac-8b80-a03c48989fce",
   "metadata": {
    "jp-MarkdownHeadingCollapsed": true,
    "tags": []
   },
   "source": [
    "### LightGBMRegressor"
   ]
  },
  {
   "cell_type": "code",
   "execution_count": 41,
   "id": "2939c345-e8a4-4804-ac7e-7d17e3207412",
   "metadata": {
    "tags": []
   },
   "outputs": [],
   "source": [
    "def smape(preds, target):\n",
    "    n = len(preds)\n",
    "    masked_arr = ~((preds == 0) & (target == 0))\n",
    "    preds, target = preds[masked_arr], target[masked_arr]\n",
    "    num = np.abs(preds - target)\n",
    "    denom = np.abs(preds) + np.abs(target)\n",
    "    smape_val = (200 * np.sum(num / denom)) / n\n",
    "    return smape_val\n",
    "\n",
    "\n",
    "def lgbm_smape(preds, train_data):\n",
    "    labels = train_data.get_label()\n",
    "    smape_val = smape(np.expm1(preds), np.expm1(labels))\n",
    "    return 'SMAPE', smape_val, False"
   ]
  },
  {
   "cell_type": "code",
   "execution_count": 81,
   "id": "e09967da-04f1-4b30-866b-36bd0f5897b4",
   "metadata": {
    "tags": []
   },
   "outputs": [],
   "source": [
    "lgbmr_model_parameters = {'boosting_type': 'gbdt',\n",
    "             'learning_rate': 0.19986850305793402,\n",
    "             'subsample': 0.9778880064060288,\n",
    "             'subsample_freq': 5,\n",
    "             'feature_fraction': 0.6153367760626559,\n",
    "             'min_child_samples': 17,\n",
    "             'min_data_in_leaf': 67,\n",
    "             'objective': None,\n",
    "             'num_iterations': 30000}"
   ]
  },
  {
   "cell_type": "code",
   "execution_count": 82,
   "id": "2c7f7a69-7005-4922-9ad5-6a6049f8ea28",
   "metadata": {
    "tags": []
   },
   "outputs": [
    {
     "name": "stderr",
     "output_type": "stream",
     "text": [
      "C:\\Users\\oftomurcuk\\AppData\\Roaming\\Python\\Python311\\site-packages\\lightgbm\\engine.py:172: UserWarning: Found `num_iterations` in params. Will use it instead of argument\n",
      "  _log_warning(f\"Found `{alias}` in params. Will use it instead of argument\")\n"
     ]
    },
    {
     "name": "stdout",
     "output_type": "stream",
     "text": [
      "[LightGBM] [Warning] min_data_in_leaf is set=67, min_child_samples=17 will be ignored. Current value: min_data_in_leaf=67\n",
      "[LightGBM] [Warning] feature_fraction is set=0.6153367760626559, colsample_bytree=1.0 will be ignored. Current value: feature_fraction=0.6153367760626559\n",
      "[LightGBM] [Warning] Found whitespace in feature_names, replace with underlines\n",
      "[LightGBM] [Warning] min_data_in_leaf is set=67, min_child_samples=17 will be ignored. Current value: min_data_in_leaf=67\n",
      "[LightGBM] [Warning] feature_fraction is set=0.6153367760626559, colsample_bytree=1.0 will be ignored. Current value: feature_fraction=0.6153367760626559\n",
      "[LightGBM] [Warning] Auto-choosing col-wise multi-threading, the overhead of testing was 0.004708 seconds.\n",
      "You can set `force_col_wise=true` to remove the overhead.\n",
      "[LightGBM] [Info] Total Bins 15124\n",
      "[LightGBM] [Info] Number of data points in the train set: 18424, number of used features: 115\n",
      "[LightGBM] [Info] Start training from score 1.600840\n"
     ]
    },
    {
     "data": {
      "text/html": [
       "<style>#sk-container-id-2 {color: black;background-color: white;}#sk-container-id-2 pre{padding: 0;}#sk-container-id-2 div.sk-toggleable {background-color: white;}#sk-container-id-2 label.sk-toggleable__label {cursor: pointer;display: block;width: 100%;margin-bottom: 0;padding: 0.3em;box-sizing: border-box;text-align: center;}#sk-container-id-2 label.sk-toggleable__label-arrow:before {content: \"▸\";float: left;margin-right: 0.25em;color: #696969;}#sk-container-id-2 label.sk-toggleable__label-arrow:hover:before {color: black;}#sk-container-id-2 div.sk-estimator:hover label.sk-toggleable__label-arrow:before {color: black;}#sk-container-id-2 div.sk-toggleable__content {max-height: 0;max-width: 0;overflow: hidden;text-align: left;background-color: #f0f8ff;}#sk-container-id-2 div.sk-toggleable__content pre {margin: 0.2em;color: black;border-radius: 0.25em;background-color: #f0f8ff;}#sk-container-id-2 input.sk-toggleable__control:checked~div.sk-toggleable__content {max-height: 200px;max-width: 100%;overflow: auto;}#sk-container-id-2 input.sk-toggleable__control:checked~label.sk-toggleable__label-arrow:before {content: \"▾\";}#sk-container-id-2 div.sk-estimator input.sk-toggleable__control:checked~label.sk-toggleable__label {background-color: #d4ebff;}#sk-container-id-2 div.sk-label input.sk-toggleable__control:checked~label.sk-toggleable__label {background-color: #d4ebff;}#sk-container-id-2 input.sk-hidden--visually {border: 0;clip: rect(1px 1px 1px 1px);clip: rect(1px, 1px, 1px, 1px);height: 1px;margin: -1px;overflow: hidden;padding: 0;position: absolute;width: 1px;}#sk-container-id-2 div.sk-estimator {font-family: monospace;background-color: #f0f8ff;border: 1px dotted black;border-radius: 0.25em;box-sizing: border-box;margin-bottom: 0.5em;}#sk-container-id-2 div.sk-estimator:hover {background-color: #d4ebff;}#sk-container-id-2 div.sk-parallel-item::after {content: \"\";width: 100%;border-bottom: 1px solid gray;flex-grow: 1;}#sk-container-id-2 div.sk-label:hover label.sk-toggleable__label {background-color: #d4ebff;}#sk-container-id-2 div.sk-serial::before {content: \"\";position: absolute;border-left: 1px solid gray;box-sizing: border-box;top: 0;bottom: 0;left: 50%;z-index: 0;}#sk-container-id-2 div.sk-serial {display: flex;flex-direction: column;align-items: center;background-color: white;padding-right: 0.2em;padding-left: 0.2em;position: relative;}#sk-container-id-2 div.sk-item {position: relative;z-index: 1;}#sk-container-id-2 div.sk-parallel {display: flex;align-items: stretch;justify-content: center;background-color: white;position: relative;}#sk-container-id-2 div.sk-item::before, #sk-container-id-2 div.sk-parallel-item::before {content: \"\";position: absolute;border-left: 1px solid gray;box-sizing: border-box;top: 0;bottom: 0;left: 50%;z-index: -1;}#sk-container-id-2 div.sk-parallel-item {display: flex;flex-direction: column;z-index: 1;position: relative;background-color: white;}#sk-container-id-2 div.sk-parallel-item:first-child::after {align-self: flex-end;width: 50%;}#sk-container-id-2 div.sk-parallel-item:last-child::after {align-self: flex-start;width: 50%;}#sk-container-id-2 div.sk-parallel-item:only-child::after {width: 0;}#sk-container-id-2 div.sk-dashed-wrapped {border: 1px dashed gray;margin: 0 0.4em 0.5em 0.4em;box-sizing: border-box;padding-bottom: 0.4em;background-color: white;}#sk-container-id-2 div.sk-label label {font-family: monospace;font-weight: bold;display: inline-block;line-height: 1.2em;}#sk-container-id-2 div.sk-label-container {text-align: center;}#sk-container-id-2 div.sk-container {/* jupyter's `normalize.less` sets `[hidden] { display: none; }` but bootstrap.min.css set `[hidden] { display: none !important; }` so we also need the `!important` here to be able to override the default hidden behavior on the sphinx rendered scikit-learn.org. See: https://github.com/scikit-learn/scikit-learn/issues/21755 */display: inline-block !important;position: relative;}#sk-container-id-2 div.sk-text-repr-fallback {display: none;}</style><div id=\"sk-container-id-2\" class=\"sk-top-container\"><div class=\"sk-text-repr-fallback\"><pre>LGBMRegressor(feature_fraction=0.6153367760626559,\n",
       "              learning_rate=0.19986850305793402, min_child_samples=17,\n",
       "              min_data_in_leaf=67, num_iterations=30000,\n",
       "              subsample=0.9778880064060288, subsample_freq=5)</pre><b>In a Jupyter environment, please rerun this cell to show the HTML representation or trust the notebook. <br />On GitHub, the HTML representation is unable to render, please try loading this page with nbviewer.org.</b></div><div class=\"sk-container\" hidden><div class=\"sk-item\"><div class=\"sk-estimator sk-toggleable\"><input class=\"sk-toggleable__control sk-hidden--visually\" id=\"sk-estimator-id-2\" type=\"checkbox\" checked><label for=\"sk-estimator-id-2\" class=\"sk-toggleable__label sk-toggleable__label-arrow\">LGBMRegressor</label><div class=\"sk-toggleable__content\"><pre>LGBMRegressor(feature_fraction=0.6153367760626559,\n",
       "              learning_rate=0.19986850305793402, min_child_samples=17,\n",
       "              min_data_in_leaf=67, num_iterations=30000,\n",
       "              subsample=0.9778880064060288, subsample_freq=5)</pre></div></div></div></div></div>"
      ],
      "text/plain": [
       "LGBMRegressor(feature_fraction=0.6153367760626559,\n",
       "              learning_rate=0.19986850305793402, min_child_samples=17,\n",
       "              min_data_in_leaf=67, num_iterations=30000,\n",
       "              subsample=0.9778880064060288, subsample_freq=5)"
      ]
     },
     "execution_count": 82,
     "metadata": {},
     "output_type": "execute_result"
    }
   ],
   "source": [
    "lgbm_model = LGBMRegressor(**lgbmr_model_parameters)\n",
    "lgbm_model.fit(X_train, Y_train)"
   ]
  },
  {
   "cell_type": "code",
   "execution_count": 83,
   "id": "1caa2e40-e107-443f-a489-cb345a1950bf",
   "metadata": {
    "tags": []
   },
   "outputs": [
    {
     "name": "stdout",
     "output_type": "stream",
     "text": [
      "[LightGBM] [Warning] min_data_in_leaf is set=67, min_child_samples=17 will be ignored. Current value: min_data_in_leaf=67\n",
      "[LightGBM] [Warning] feature_fraction is set=0.6153367760626559, colsample_bytree=1.0 will be ignored. Current value: feature_fraction=0.6153367760626559\n"
     ]
    },
    {
     "data": {
      "text/plain": [
       "9.02614816819916"
      ]
     },
     "execution_count": 83,
     "metadata": {},
     "output_type": "execute_result"
    }
   ],
   "source": [
    "y_pred_val = lgbm_model.predict(X_val,\n",
    "                                #num_iteration=model.best_iteration\n",
    "                                )\n",
    "\n",
    "smape(np.expm1(y_pred_val), np.expm1(Y_val))"
   ]
  },
  {
   "cell_type": "code",
   "execution_count": 45,
   "id": "9f12816c-3cd8-4ed4-9444-22321e4f5a39",
   "metadata": {
    "collapsed": true,
    "jupyter": {
     "outputs_hidden": true
    },
    "tags": []
   },
   "outputs": [
    {
     "name": "stderr",
     "output_type": "stream",
     "text": [
      "C:\\Users\\oftomurcuk\\AppData\\Roaming\\Python\\Python311\\site-packages\\lightgbm\\engine.py:172: UserWarning: Found `num_iterations` in params. Will use it instead of argument\n",
      "  _log_warning(f\"Found `{alias}` in params. Will use it instead of argument\")\n"
     ]
    },
    {
     "name": "stdout",
     "output_type": "stream",
     "text": [
      "[LightGBM] [Warning] min_data_in_leaf is set=67, min_child_samples=17 will be ignored. Current value: min_data_in_leaf=67\n",
      "[LightGBM] [Warning] Found whitespace in feature_names, replace with underlines\n",
      "[LightGBM] [Warning] min_data_in_leaf is set=67, min_child_samples=17 will be ignored. Current value: min_data_in_leaf=67\n",
      "[LightGBM] [Warning] Auto-choosing col-wise multi-threading, the overhead of testing was 0.005394 seconds.\n",
      "You can set `force_col_wise=true` to remove the overhead.\n",
      "[LightGBM] [Info] Total Bins 15124\n",
      "[LightGBM] [Info] Number of data points in the train set: 18424, number of used features: 115\n",
      "[LightGBM] [Warning] min_data_in_leaf is set=67, min_child_samples=17 will be ignored. Current value: min_data_in_leaf=67\n",
      "[LightGBM] [Warning] Found whitespace in feature_names, replace with underlines\n",
      "[LightGBM] [Info] Start training from score 1.600840\n"
     ]
    }
   ],
   "source": [
    "\"\"\"\n",
    "lgbtrain = lgb.Dataset(data=X_train, label=Y_train, feature_name=cols)\n",
    "\n",
    "lgbval = lgb.Dataset(data=X_val, label=Y_val, reference=lgbtrain, feature_name=cols)\n",
    "\n",
    "lgbmr_model = lgb.train(lgbmr_model_parameters, lgbtrain,\n",
    "                  valid_sets=[lgbtrain, lgbval],\n",
    "                  num_boost_round =30000,\n",
    "                  # early_stopping_rounds=lgb_params['early_stopping_rounds'],\n",
    "                  feval=lgbm_smape,\n",
    "                  # verbose_eval=1000\n",
    "                  )\n",
    "\"\"\""
   ]
  },
  {
   "cell_type": "code",
   "execution_count": 46,
   "id": "0fc97111-4372-40b5-8c6a-9f9765eae624",
   "metadata": {
    "tags": []
   },
   "outputs": [
    {
     "data": {
      "text/plain": [
       "9.02614816819916"
      ]
     },
     "execution_count": 46,
     "metadata": {},
     "output_type": "execute_result"
    }
   ],
   "source": [
    "y_pred_val = lgbmr_model.predict(X_val,\n",
    "                                #num_iteration=model.best_iteration\n",
    "                                )\n",
    "\n",
    "smape(np.expm1(y_pred_val), np.expm1(Y_val))"
   ]
  },
  {
   "cell_type": "markdown",
   "id": "4396ca1f-0c6c-4375-87d2-1ac072540d3c",
   "metadata": {
    "tags": []
   },
   "source": [
    "## Creating VotingRegressor "
   ]
  },
  {
   "cell_type": "markdown",
   "id": "ed73285f-e3b5-4c88-ad2f-30d4eb245bf8",
   "metadata": {},
   "source": [
    "**VotingRegression pretrained model kullanmıyor.** Bu yüzden modeli eğitmemiz gerekiyor. Fakat alternatif var:"
   ]
  },
  {
   "cell_type": "markdown",
   "id": "d8f22003-3569-41ed-aa43-2906eaa1a5e6",
   "metadata": {
    "jp-MarkdownHeadingCollapsed": true,
    "tags": []
   },
   "source": [
    "### Creating SMAPE for VotingRegressor "
   ]
  },
  {
   "cell_type": "code",
   "execution_count": 54,
   "id": "bab5db40-e324-4007-86ad-cfa743a375af",
   "metadata": {
    "tags": []
   },
   "outputs": [],
   "source": [
    "def smape_scorer(y_true, y_pred):\n",
    "    n = len(y_true)\n",
    "    masked_arr = ~((y_pred == 0) & (y_true == 0))\n",
    "    y_pred, y_true = y_pred[masked_arr], y_true[masked_arr]\n",
    "    num = np.abs(y_pred - y_true)\n",
    "    denom = np.abs(y_pred) + np.abs(y_true)\n",
    "    smape_val = (200 * np.sum(num / denom)) / n\n",
    "    return smape_val"
   ]
  },
  {
   "cell_type": "markdown",
   "id": "bfaeda05-cdda-405b-b1ad-f6280972be4c",
   "metadata": {
    "jp-MarkdownHeadingCollapsed": true,
    "tags": []
   },
   "source": [
    "### Creating VotingRegressor"
   ]
  },
  {
   "cell_type": "code",
   "execution_count": 48,
   "id": "638866aa-b947-4ffd-a479-c41e2abcf008",
   "metadata": {
    "tags": []
   },
   "outputs": [],
   "source": [
    "voting_regressor = VotingRegressor(estimators=[\n",
    "    ('lgbmr_model', lgbmr_model),\n",
    "    ('hgbr_model', hgbr_model),\n",
    "])"
   ]
  },
  {
   "cell_type": "code",
   "execution_count": 56,
   "id": "50524b15-4991-4944-b311-d1ada9c9f42e",
   "metadata": {
    "tags": []
   },
   "outputs": [],
   "source": [
    "smape_scorer_make = make_scorer(smape_scorer, greater_is_better=False)"
   ]
  },
  {
   "cell_type": "code",
   "execution_count": 58,
   "id": "a9a5a5db-e6f4-4c99-8584-65720a1431c8",
   "metadata": {
    "collapsed": true,
    "jupyter": {
     "outputs_hidden": true
    },
    "tags": []
   },
   "outputs": [
    {
     "ename": "ValueError",
     "evalue": "The estimator Booster should be a regressor.",
     "output_type": "error",
     "traceback": [
      "\u001b[1;31m---------------------------------------------------------------------------\u001b[0m",
      "\u001b[1;31mValueError\u001b[0m                                Traceback (most recent call last)",
      "Cell \u001b[1;32mIn[58], line 1\u001b[0m\n\u001b[1;32m----> 1\u001b[0m scores \u001b[38;5;241m=\u001b[39m \u001b[38;5;241m-\u001b[39mcross_val_score(voting_regressor, X_train, Y_train, cv\u001b[38;5;241m=\u001b[39m\u001b[38;5;241m5\u001b[39m, scoring\u001b[38;5;241m=\u001b[39msmape_scorer_make,n_jobs\u001b[38;5;241m=\u001b[39m\u001b[38;5;241m-\u001b[39m\u001b[38;5;241m1\u001b[39m, error_score\u001b[38;5;241m=\u001b[39m\u001b[38;5;124m\"\u001b[39m\u001b[38;5;124mraise\u001b[39m\u001b[38;5;124m\"\u001b[39m)\n",
      "File \u001b[1;32mC:\\ProgramData\\anaconda3\\Lib\\site-packages\\sklearn\\model_selection\\_validation.py:515\u001b[0m, in \u001b[0;36mcross_val_score\u001b[1;34m(estimator, X, y, groups, scoring, cv, n_jobs, verbose, fit_params, pre_dispatch, error_score)\u001b[0m\n\u001b[0;32m    512\u001b[0m \u001b[38;5;66;03m# To ensure multimetric format is not supported\u001b[39;00m\n\u001b[0;32m    513\u001b[0m scorer \u001b[38;5;241m=\u001b[39m check_scoring(estimator, scoring\u001b[38;5;241m=\u001b[39mscoring)\n\u001b[1;32m--> 515\u001b[0m cv_results \u001b[38;5;241m=\u001b[39m cross_validate(\n\u001b[0;32m    516\u001b[0m     estimator\u001b[38;5;241m=\u001b[39mestimator,\n\u001b[0;32m    517\u001b[0m     X\u001b[38;5;241m=\u001b[39mX,\n\u001b[0;32m    518\u001b[0m     y\u001b[38;5;241m=\u001b[39my,\n\u001b[0;32m    519\u001b[0m     groups\u001b[38;5;241m=\u001b[39mgroups,\n\u001b[0;32m    520\u001b[0m     scoring\u001b[38;5;241m=\u001b[39m{\u001b[38;5;124m\"\u001b[39m\u001b[38;5;124mscore\u001b[39m\u001b[38;5;124m\"\u001b[39m: scorer},\n\u001b[0;32m    521\u001b[0m     cv\u001b[38;5;241m=\u001b[39mcv,\n\u001b[0;32m    522\u001b[0m     n_jobs\u001b[38;5;241m=\u001b[39mn_jobs,\n\u001b[0;32m    523\u001b[0m     verbose\u001b[38;5;241m=\u001b[39mverbose,\n\u001b[0;32m    524\u001b[0m     fit_params\u001b[38;5;241m=\u001b[39mfit_params,\n\u001b[0;32m    525\u001b[0m     pre_dispatch\u001b[38;5;241m=\u001b[39mpre_dispatch,\n\u001b[0;32m    526\u001b[0m     error_score\u001b[38;5;241m=\u001b[39merror_score,\n\u001b[0;32m    527\u001b[0m )\n\u001b[0;32m    528\u001b[0m \u001b[38;5;28;01mreturn\u001b[39;00m cv_results[\u001b[38;5;124m\"\u001b[39m\u001b[38;5;124mtest_score\u001b[39m\u001b[38;5;124m\"\u001b[39m]\n",
      "File \u001b[1;32mC:\\ProgramData\\anaconda3\\Lib\\site-packages\\sklearn\\model_selection\\_validation.py:266\u001b[0m, in \u001b[0;36mcross_validate\u001b[1;34m(estimator, X, y, groups, scoring, cv, n_jobs, verbose, fit_params, pre_dispatch, return_train_score, return_estimator, error_score)\u001b[0m\n\u001b[0;32m    263\u001b[0m \u001b[38;5;66;03m# We clone the estimator to make sure that all the folds are\u001b[39;00m\n\u001b[0;32m    264\u001b[0m \u001b[38;5;66;03m# independent, and that it is pickle-able.\u001b[39;00m\n\u001b[0;32m    265\u001b[0m parallel \u001b[38;5;241m=\u001b[39m Parallel(n_jobs\u001b[38;5;241m=\u001b[39mn_jobs, verbose\u001b[38;5;241m=\u001b[39mverbose, pre_dispatch\u001b[38;5;241m=\u001b[39mpre_dispatch)\n\u001b[1;32m--> 266\u001b[0m results \u001b[38;5;241m=\u001b[39m parallel(\n\u001b[0;32m    267\u001b[0m     delayed(_fit_and_score)(\n\u001b[0;32m    268\u001b[0m         clone(estimator),\n\u001b[0;32m    269\u001b[0m         X,\n\u001b[0;32m    270\u001b[0m         y,\n\u001b[0;32m    271\u001b[0m         scorers,\n\u001b[0;32m    272\u001b[0m         train,\n\u001b[0;32m    273\u001b[0m         test,\n\u001b[0;32m    274\u001b[0m         verbose,\n\u001b[0;32m    275\u001b[0m         \u001b[38;5;28;01mNone\u001b[39;00m,\n\u001b[0;32m    276\u001b[0m         fit_params,\n\u001b[0;32m    277\u001b[0m         return_train_score\u001b[38;5;241m=\u001b[39mreturn_train_score,\n\u001b[0;32m    278\u001b[0m         return_times\u001b[38;5;241m=\u001b[39m\u001b[38;5;28;01mTrue\u001b[39;00m,\n\u001b[0;32m    279\u001b[0m         return_estimator\u001b[38;5;241m=\u001b[39mreturn_estimator,\n\u001b[0;32m    280\u001b[0m         error_score\u001b[38;5;241m=\u001b[39merror_score,\n\u001b[0;32m    281\u001b[0m     )\n\u001b[0;32m    282\u001b[0m     \u001b[38;5;28;01mfor\u001b[39;00m train, test \u001b[38;5;129;01min\u001b[39;00m cv\u001b[38;5;241m.\u001b[39msplit(X, y, groups)\n\u001b[0;32m    283\u001b[0m )\n\u001b[0;32m    285\u001b[0m _warn_or_raise_about_fit_failures(results, error_score)\n\u001b[0;32m    287\u001b[0m \u001b[38;5;66;03m# For callabe scoring, the return type is only know after calling. If the\u001b[39;00m\n\u001b[0;32m    288\u001b[0m \u001b[38;5;66;03m# return type is a dictionary, the error scores can now be inserted with\u001b[39;00m\n\u001b[0;32m    289\u001b[0m \u001b[38;5;66;03m# the correct key.\u001b[39;00m\n",
      "File \u001b[1;32mC:\\ProgramData\\anaconda3\\Lib\\site-packages\\sklearn\\utils\\parallel.py:63\u001b[0m, in \u001b[0;36mParallel.__call__\u001b[1;34m(self, iterable)\u001b[0m\n\u001b[0;32m     58\u001b[0m config \u001b[38;5;241m=\u001b[39m get_config()\n\u001b[0;32m     59\u001b[0m iterable_with_config \u001b[38;5;241m=\u001b[39m (\n\u001b[0;32m     60\u001b[0m     (_with_config(delayed_func, config), args, kwargs)\n\u001b[0;32m     61\u001b[0m     \u001b[38;5;28;01mfor\u001b[39;00m delayed_func, args, kwargs \u001b[38;5;129;01min\u001b[39;00m iterable\n\u001b[0;32m     62\u001b[0m )\n\u001b[1;32m---> 63\u001b[0m \u001b[38;5;28;01mreturn\u001b[39;00m \u001b[38;5;28msuper\u001b[39m()\u001b[38;5;241m.\u001b[39m\u001b[38;5;21m__call__\u001b[39m(iterable_with_config)\n",
      "File \u001b[1;32mC:\\ProgramData\\anaconda3\\Lib\\site-packages\\joblib\\parallel.py:1098\u001b[0m, in \u001b[0;36mParallel.__call__\u001b[1;34m(self, iterable)\u001b[0m\n\u001b[0;32m   1095\u001b[0m     \u001b[38;5;28mself\u001b[39m\u001b[38;5;241m.\u001b[39m_iterating \u001b[38;5;241m=\u001b[39m \u001b[38;5;28;01mFalse\u001b[39;00m\n\u001b[0;32m   1097\u001b[0m \u001b[38;5;28;01mwith\u001b[39;00m \u001b[38;5;28mself\u001b[39m\u001b[38;5;241m.\u001b[39m_backend\u001b[38;5;241m.\u001b[39mretrieval_context():\n\u001b[1;32m-> 1098\u001b[0m     \u001b[38;5;28mself\u001b[39m\u001b[38;5;241m.\u001b[39mretrieve()\n\u001b[0;32m   1099\u001b[0m \u001b[38;5;66;03m# Make sure that we get a last message telling us we are done\u001b[39;00m\n\u001b[0;32m   1100\u001b[0m elapsed_time \u001b[38;5;241m=\u001b[39m time\u001b[38;5;241m.\u001b[39mtime() \u001b[38;5;241m-\u001b[39m \u001b[38;5;28mself\u001b[39m\u001b[38;5;241m.\u001b[39m_start_time\n",
      "File \u001b[1;32mC:\\ProgramData\\anaconda3\\Lib\\site-packages\\joblib\\parallel.py:975\u001b[0m, in \u001b[0;36mParallel.retrieve\u001b[1;34m(self)\u001b[0m\n\u001b[0;32m    973\u001b[0m \u001b[38;5;28;01mtry\u001b[39;00m:\n\u001b[0;32m    974\u001b[0m     \u001b[38;5;28;01mif\u001b[39;00m \u001b[38;5;28mgetattr\u001b[39m(\u001b[38;5;28mself\u001b[39m\u001b[38;5;241m.\u001b[39m_backend, \u001b[38;5;124m'\u001b[39m\u001b[38;5;124msupports_timeout\u001b[39m\u001b[38;5;124m'\u001b[39m, \u001b[38;5;28;01mFalse\u001b[39;00m):\n\u001b[1;32m--> 975\u001b[0m         \u001b[38;5;28mself\u001b[39m\u001b[38;5;241m.\u001b[39m_output\u001b[38;5;241m.\u001b[39mextend(job\u001b[38;5;241m.\u001b[39mget(timeout\u001b[38;5;241m=\u001b[39m\u001b[38;5;28mself\u001b[39m\u001b[38;5;241m.\u001b[39mtimeout))\n\u001b[0;32m    976\u001b[0m     \u001b[38;5;28;01melse\u001b[39;00m:\n\u001b[0;32m    977\u001b[0m         \u001b[38;5;28mself\u001b[39m\u001b[38;5;241m.\u001b[39m_output\u001b[38;5;241m.\u001b[39mextend(job\u001b[38;5;241m.\u001b[39mget())\n",
      "File \u001b[1;32mC:\\ProgramData\\anaconda3\\Lib\\site-packages\\joblib\\_parallel_backends.py:567\u001b[0m, in \u001b[0;36mLokyBackend.wrap_future_result\u001b[1;34m(future, timeout)\u001b[0m\n\u001b[0;32m    564\u001b[0m \u001b[38;5;250m\u001b[39m\u001b[38;5;124;03m\"\"\"Wrapper for Future.result to implement the same behaviour as\u001b[39;00m\n\u001b[0;32m    565\u001b[0m \u001b[38;5;124;03mAsyncResults.get from multiprocessing.\"\"\"\u001b[39;00m\n\u001b[0;32m    566\u001b[0m \u001b[38;5;28;01mtry\u001b[39;00m:\n\u001b[1;32m--> 567\u001b[0m     \u001b[38;5;28;01mreturn\u001b[39;00m future\u001b[38;5;241m.\u001b[39mresult(timeout\u001b[38;5;241m=\u001b[39mtimeout)\n\u001b[0;32m    568\u001b[0m \u001b[38;5;28;01mexcept\u001b[39;00m CfTimeoutError \u001b[38;5;28;01mas\u001b[39;00m e:\n\u001b[0;32m    569\u001b[0m     \u001b[38;5;28;01mraise\u001b[39;00m \u001b[38;5;167;01mTimeoutError\u001b[39;00m \u001b[38;5;28;01mfrom\u001b[39;00m \u001b[38;5;21;01me\u001b[39;00m\n",
      "File \u001b[1;32mC:\\ProgramData\\anaconda3\\Lib\\concurrent\\futures\\_base.py:456\u001b[0m, in \u001b[0;36mFuture.result\u001b[1;34m(self, timeout)\u001b[0m\n\u001b[0;32m    454\u001b[0m     \u001b[38;5;28;01mraise\u001b[39;00m CancelledError()\n\u001b[0;32m    455\u001b[0m \u001b[38;5;28;01melif\u001b[39;00m \u001b[38;5;28mself\u001b[39m\u001b[38;5;241m.\u001b[39m_state \u001b[38;5;241m==\u001b[39m FINISHED:\n\u001b[1;32m--> 456\u001b[0m     \u001b[38;5;28;01mreturn\u001b[39;00m \u001b[38;5;28mself\u001b[39m\u001b[38;5;241m.\u001b[39m__get_result()\n\u001b[0;32m    457\u001b[0m \u001b[38;5;28;01melse\u001b[39;00m:\n\u001b[0;32m    458\u001b[0m     \u001b[38;5;28;01mraise\u001b[39;00m \u001b[38;5;167;01mTimeoutError\u001b[39;00m()\n",
      "File \u001b[1;32mC:\\ProgramData\\anaconda3\\Lib\\concurrent\\futures\\_base.py:401\u001b[0m, in \u001b[0;36mFuture.__get_result\u001b[1;34m(self)\u001b[0m\n\u001b[0;32m    399\u001b[0m \u001b[38;5;28;01mif\u001b[39;00m \u001b[38;5;28mself\u001b[39m\u001b[38;5;241m.\u001b[39m_exception:\n\u001b[0;32m    400\u001b[0m     \u001b[38;5;28;01mtry\u001b[39;00m:\n\u001b[1;32m--> 401\u001b[0m         \u001b[38;5;28;01mraise\u001b[39;00m \u001b[38;5;28mself\u001b[39m\u001b[38;5;241m.\u001b[39m_exception\n\u001b[0;32m    402\u001b[0m     \u001b[38;5;28;01mfinally\u001b[39;00m:\n\u001b[0;32m    403\u001b[0m         \u001b[38;5;66;03m# Break a reference cycle with the exception in self._exception\u001b[39;00m\n\u001b[0;32m    404\u001b[0m         \u001b[38;5;28mself\u001b[39m \u001b[38;5;241m=\u001b[39m \u001b[38;5;28;01mNone\u001b[39;00m\n",
      "\u001b[1;31mValueError\u001b[0m: The estimator Booster should be a regressor."
     ]
    }
   ],
   "source": [
    "scores = -cross_val_score(voting_regressor, X_train, Y_train, cv=5, scoring=smape_scorer_make,n_jobs=-1, error_score=\"raise\")"
   ]
  },
  {
   "cell_type": "code",
   "execution_count": 61,
   "id": "d9a54f0a-e690-442f-8a91-69973da9b872",
   "metadata": {
    "tags": []
   },
   "outputs": [],
   "source": [
    "def voting_regressor_smape(models, X, y):\n",
    "    # model listesi\n",
    "    regressors = [(f\"model_{idx}\", model) for idx, model in enumerate(models)]\n",
    "    \n",
    "    # VotingRegressor oluşturuyorum\n",
    "    voting_regressor = VotingRegressor(estimators=regressors)\n",
    "    \n",
    "    # Use SMAPE as the scoring metric during cross-validation\n",
    "    smape_scorer_make = make_scorer(smape_scorer, greater_is_better=False)\n",
    "    scores = -cross_val_score(voting_regressor, X_train, Y_train, cv=5, scoring=smape_scorer_make,n_jobs=-1, error_score=\"raise\")\n",
    "\n",
    "    # Calculate the mean SMAPE score across cross-validation folds\n",
    "    mean_smape_score = np.mean(scores)\n",
    "    return mean_smape_score\n"
   ]
  },
  {
   "cell_type": "code",
   "execution_count": 84,
   "id": "c7a0ab56-36c6-4518-a9b6-d5b57f9a1c7a",
   "metadata": {
    "tags": []
   },
   "outputs": [
    {
     "data": {
      "text/plain": [
       "4.069787514538628"
      ]
     },
     "execution_count": 84,
     "metadata": {},
     "output_type": "execute_result"
    }
   ],
   "source": [
    "voting_regressor_smape((hgbr_model,lgbm_model),X_train,Y_train)"
   ]
  },
  {
   "cell_type": "code",
   "execution_count": 87,
   "id": "34140d85-ebb2-46b6-a2bd-899d91842208",
   "metadata": {
    "tags": []
   },
   "outputs": [],
   "source": [
    "regressors = [(f\"model_{idx}\", model) for idx, model in enumerate((hgbr_model,lgbm_model))]\n",
    "voting_regressor = VotingRegressor(estimators=regressors)"
   ]
  },
  {
   "cell_type": "code",
   "execution_count": 89,
   "id": "6d1a1645-9042-4c24-b5bf-caedbfe05cb7",
   "metadata": {
    "tags": []
   },
   "outputs": [
    {
     "name": "stderr",
     "output_type": "stream",
     "text": [
      "C:\\Users\\oftomurcuk\\AppData\\Roaming\\Python\\Python311\\site-packages\\lightgbm\\engine.py:172: UserWarning: Found `num_iterations` in params. Will use it instead of argument\n",
      "  _log_warning(f\"Found `{alias}` in params. Will use it instead of argument\")\n"
     ]
    },
    {
     "name": "stdout",
     "output_type": "stream",
     "text": [
      "[LightGBM] [Warning] min_data_in_leaf is set=67, min_child_samples=17 will be ignored. Current value: min_data_in_leaf=67\n",
      "[LightGBM] [Warning] feature_fraction is set=0.6153367760626559, colsample_bytree=1.0 will be ignored. Current value: feature_fraction=0.6153367760626559\n",
      "[LightGBM] [Warning] Found whitespace in feature_names, replace with underlines\n",
      "[LightGBM] [Warning] min_data_in_leaf is set=67, min_child_samples=17 will be ignored. Current value: min_data_in_leaf=67\n",
      "[LightGBM] [Warning] feature_fraction is set=0.6153367760626559, colsample_bytree=1.0 will be ignored. Current value: feature_fraction=0.6153367760626559\n",
      "[LightGBM] [Warning] Auto-choosing col-wise multi-threading, the overhead of testing was 0.005033 seconds.\n",
      "You can set `force_col_wise=true` to remove the overhead.\n",
      "[LightGBM] [Info] Total Bins 15124\n",
      "[LightGBM] [Info] Number of data points in the train set: 18424, number of used features: 115\n",
      "[LightGBM] [Info] Start training from score 1.600840\n",
      "[LightGBM] [Warning] min_data_in_leaf is set=67, min_child_samples=17 will be ignored. Current value: min_data_in_leaf=67\n",
      "[LightGBM] [Warning] feature_fraction is set=0.6153367760626559, colsample_bytree=1.0 will be ignored. Current value: feature_fraction=0.6153367760626559\n"
     ]
    },
    {
     "data": {
      "text/plain": [
       "array([1.59206108, 1.58392806, 1.56711518, ..., 1.60512348, 1.56349074,\n",
       "       1.58462308])"
      ]
     },
     "execution_count": 89,
     "metadata": {},
     "output_type": "execute_result"
    }
   ],
   "source": [
    "voting_regressor.fit(X_train,Y_train)"
   ]
  },
  {
   "cell_type": "markdown",
   "id": "45f003e6-e98c-4682-90d1-d594175c28f0",
   "metadata": {},
   "source": [
    "**Aşırı Önemli Not:** <br>\n",
    "Lighgbm'in kendi API'si Sklearn gibi model olarak dönmüyor. Fakat Sklearn'de dönüyor. Bu <br>\n",
    "yüzden kendi API'ını kullanmak yerin Sklearn kulladnım. Bu yüzden Microsoft ürünleri beş para etmez."
   ]
  },
  {
   "cell_type": "markdown",
   "id": "b6505d25-c773-40ca-856b-425c66d7680b",
   "metadata": {
    "tags": []
   },
   "source": [
    "### Alternative VotingRegression For Pretrained Models"
   ]
  },
  {
   "cell_type": "markdown",
   "id": "a47646fb-c276-4b7e-b655-1a33dac70c20",
   "metadata": {},
   "source": [
    "VotingRegression'un Zat-ı Ali'leri pretrained kabul etmediği için şu yoluda deneyebiliriz:"
   ]
  },
  {
   "cell_type": "code",
   "execution_count": 85,
   "id": "fdfb3330-278b-4bd7-856c-1eabfd478e6d",
   "metadata": {
    "tags": []
   },
   "outputs": [],
   "source": [
    "\n",
    "# preds1 = model1.predict(X_test)\n",
    "# preds2 = model2.predict(X_test)\n",
    "\n",
    "# ensemble_predictions = (preds1 + preds2) / 2  \n",
    "\n",
    "# mse = mean_squared_error(y_test, ensemble_predictions)\n",
    "# print(f\"Mean Squared Error (MSE) for the ensemble: {mse}\")"
   ]
  },
  {
   "cell_type": "markdown",
   "id": "8ee47d5d-6afa-4225-8801-fda10a6e2708",
   "metadata": {},
   "source": [
    "## Joblib"
   ]
  },
  {
   "cell_type": "code",
   "execution_count": 95,
   "id": "cc1fa806-0f34-4d2f-b4fc-03d61c704de8",
   "metadata": {
    "tags": []
   },
   "outputs": [
    {
     "data": {
      "text/plain": [
       "['votingw_regressor.pkl']"
      ]
     },
     "execution_count": 95,
     "metadata": {},
     "output_type": "execute_result"
    }
   ],
   "source": [
    "joblib.dump(voting_regressor,\"votingw_regressor.pkl\")"
   ]
  }
 ],
 "metadata": {
  "kernelspec": {
   "display_name": "Python 3 (ipykernel)",
   "language": "python",
   "name": "python3"
  },
  "language_info": {
   "codemirror_mode": {
    "name": "ipython",
    "version": 3
   },
   "file_extension": ".py",
   "mimetype": "text/x-python",
   "name": "python",
   "nbconvert_exporter": "python",
   "pygments_lexer": "ipython3",
   "version": "3.11.3"
  }
 },
 "nbformat": 4,
 "nbformat_minor": 5
}
